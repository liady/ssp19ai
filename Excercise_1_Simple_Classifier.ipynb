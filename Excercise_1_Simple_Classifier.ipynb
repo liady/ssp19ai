{
  "nbformat": 4,
  "nbformat_minor": 0,
  "metadata": {
    "colab": {
      "name": "Excercise 1 - Simple Classifier",
      "version": "0.3.2",
      "provenance": [],
      "collapsed_sections": [],
      "toc_visible": true,
      "include_colab_link": true
    },
    "kernelspec": {
      "name": "python3",
      "display_name": "Python 3"
    }
  },
  "cells": [
    {
      "cell_type": "markdown",
      "metadata": {
        "id": "view-in-github",
        "colab_type": "text"
      },
      "source": [
        "<a href=\"https://colab.research.google.com/github/liady/ssp19ai/blob/master/Excercise_1_Simple_Classifier.ipynb\" target=\"_parent\"><img src=\"https://colab.research.google.com/assets/colab-badge.svg\" alt=\"Open In Colab\"/></a>"
      ]
    },
    {
      "cell_type": "markdown",
      "metadata": {
        "id": "s2ArjSbvNIlA",
        "colab_type": "text"
      },
      "source": [
        "# SSP19 - Machine Learning"
      ]
    },
    {
      "cell_type": "markdown",
      "metadata": {
        "id": "9e048l5KPRvC",
        "colab_type": "text"
      },
      "source": [
        "<img src=\"https://i.ibb.co/KV784Nc/SSP19.png\"/>"
      ]
    },
    {
      "cell_type": "markdown",
      "metadata": {
        "id": "2m3JvqB5NVH4",
        "colab_type": "text"
      },
      "source": [
        "## A Simple Neural Network Classifier"
      ]
    },
    {
      "cell_type": "markdown",
      "metadata": {
        "id": "GQPLk6LrPaAU",
        "colab_type": "text"
      },
      "source": [
        "In this excercise, we will get familiar with some of the basic concepts of neural networks.\n",
        "\n",
        "In order to understand the meaning of a **classifier** - we will build a simple neural network that will receive points on a graph as an input - and will have to classify them to the appropriate class."
      ]
    },
    {
      "cell_type": "markdown",
      "metadata": {
        "id": "SR8Oun93RbLF",
        "colab_type": "text"
      },
      "source": [
        "###\"Hello World\" with Google Colab"
      ]
    },
    {
      "cell_type": "markdown",
      "metadata": {
        "id": "xQQ7MVHLP3GQ",
        "colab_type": "text"
      },
      "source": [
        "*(Note - In order to run a cell - select it and press Ctrl + Enter)*"
      ]
    },
    {
      "cell_type": "code",
      "metadata": {
        "id": "EgW4LAHURg-2",
        "colab_type": "code",
        "colab": {
          "base_uri": "https://localhost:8080/",
          "height": 34
        },
        "outputId": "fd9340fd-8297-45e8-aa98-092140e05a64"
      },
      "source": [
        "print(\"Hello World\")"
      ],
      "execution_count": 3,
      "outputs": [
        {
          "output_type": "stream",
          "text": [
            "Hello World\n"
          ],
          "name": "stdout"
        }
      ]
    },
    {
      "cell_type": "markdown",
      "metadata": {
        "id": "uAJuYw3BQG8f",
        "colab_type": "text"
      },
      "source": [
        "###Requirements"
      ]
    },
    {
      "cell_type": "markdown",
      "metadata": {
        "id": "9gK_BOWyQK2r",
        "colab_type": "text"
      },
      "source": [
        "Let's make sure we have the latest version of [TensorFlow](https://www.tensorflow.org/tutorials) Installed:"
      ]
    },
    {
      "cell_type": "code",
      "metadata": {
        "id": "Wo0msBDdpxQZ",
        "colab_type": "code",
        "outputId": "d327c7da-e5e8-4542-c29f-b4d1cf2bf2ce",
        "colab": {
          "base_uri": "https://localhost:8080/",
          "height": 428
        }
      },
      "source": [
        "!pip install tensorflow==2.0.0-beta1"
      ],
      "execution_count": 2,
      "outputs": [
        {
          "output_type": "stream",
          "text": [
            "Collecting tensorflow==2.0.0-beta1\n",
            "  Using cached https://files.pythonhosted.org/packages/29/6c/2c9a5c4d095c63c2fb37d20def0e4f92685f7aee9243d6aae25862694fd1/tensorflow-2.0.0b1-cp36-cp36m-manylinux1_x86_64.whl\n",
            "Requirement already satisfied: six>=1.10.0 in /usr/local/lib/python3.6/dist-packages (from tensorflow==2.0.0-beta1) (1.12.0)\n",
            "Requirement already satisfied: wrapt>=1.11.1 in /usr/local/lib/python3.6/dist-packages (from tensorflow==2.0.0-beta1) (1.11.2)\n",
            "Requirement already satisfied: grpcio>=1.8.6 in /usr/local/lib/python3.6/dist-packages (from tensorflow==2.0.0-beta1) (1.15.0)\n",
            "Requirement already satisfied: termcolor>=1.1.0 in /usr/local/lib/python3.6/dist-packages (from tensorflow==2.0.0-beta1) (1.1.0)\n",
            "Requirement already satisfied: numpy<2.0,>=1.14.5 in /usr/local/lib/python3.6/dist-packages (from tensorflow==2.0.0-beta1) (1.16.4)\n",
            "Requirement already satisfied: absl-py>=0.7.0 in /usr/local/lib/python3.6/dist-packages (from tensorflow==2.0.0-beta1) (0.7.1)\n",
            "Requirement already satisfied: gast>=0.2.0 in /usr/local/lib/python3.6/dist-packages (from tensorflow==2.0.0-beta1) (0.2.2)\n",
            "Requirement already satisfied: protobuf>=3.6.1 in /usr/local/lib/python3.6/dist-packages (from tensorflow==2.0.0-beta1) (3.7.1)\n",
            "Requirement already satisfied: keras-preprocessing>=1.0.5 in /usr/local/lib/python3.6/dist-packages (from tensorflow==2.0.0-beta1) (1.1.0)\n",
            "Requirement already satisfied: tf-estimator-nightly<1.14.0.dev2019060502,>=1.14.0.dev2019060501 in /usr/local/lib/python3.6/dist-packages (from tensorflow==2.0.0-beta1) (1.14.0.dev2019060501)\n",
            "Requirement already satisfied: astor>=0.6.0 in /usr/local/lib/python3.6/dist-packages (from tensorflow==2.0.0-beta1) (0.8.0)\n",
            "Requirement already satisfied: tb-nightly<1.14.0a20190604,>=1.14.0a20190603 in /usr/local/lib/python3.6/dist-packages (from tensorflow==2.0.0-beta1) (1.14.0a20190603)\n",
            "Requirement already satisfied: wheel>=0.26 in /usr/local/lib/python3.6/dist-packages (from tensorflow==2.0.0-beta1) (0.33.4)\n",
            "Requirement already satisfied: google-pasta>=0.1.6 in /usr/local/lib/python3.6/dist-packages (from tensorflow==2.0.0-beta1) (0.1.7)\n",
            "Requirement already satisfied: keras-applications>=1.0.6 in /usr/local/lib/python3.6/dist-packages (from tensorflow==2.0.0-beta1) (1.0.8)\n",
            "Requirement already satisfied: setuptools in /usr/local/lib/python3.6/dist-packages (from protobuf>=3.6.1->tensorflow==2.0.0-beta1) (41.0.1)\n",
            "Requirement already satisfied: markdown>=2.6.8 in /usr/local/lib/python3.6/dist-packages (from tb-nightly<1.14.0a20190604,>=1.14.0a20190603->tensorflow==2.0.0-beta1) (3.1.1)\n",
            "Requirement already satisfied: werkzeug>=0.11.15 in /usr/local/lib/python3.6/dist-packages (from tb-nightly<1.14.0a20190604,>=1.14.0a20190603->tensorflow==2.0.0-beta1) (0.15.4)\n",
            "Requirement already satisfied: h5py in /usr/local/lib/python3.6/dist-packages (from keras-applications>=1.0.6->tensorflow==2.0.0-beta1) (2.8.0)\n",
            "Installing collected packages: tensorflow\n",
            "Successfully installed tensorflow-2.0.0b1\n"
          ],
          "name": "stdout"
        }
      ]
    },
    {
      "cell_type": "markdown",
      "metadata": {
        "id": "-k_B-B7eQa0L",
        "colab_type": "text"
      },
      "source": [
        "Let's also make sure to import all the libraries that we need in order to run the excercise:"
      ]
    },
    {
      "cell_type": "code",
      "metadata": {
        "id": "p8vETwvPakr8",
        "colab_type": "code",
        "colab": {
          "base_uri": "https://localhost:8080/",
          "height": 238
        },
        "outputId": "7d7c10ed-9ae6-4a79-cf42-71cfcf96bdc0"
      },
      "source": [
        "!git clone https://github.com/liady/ssp19ai_utils.git\n",
        "!git -C ssp19ai_utils pull\n",
        "import ssp19ai_utils.utils as utils\n",
        "import importlib\n",
        "importlib.reload(utils)"
      ],
      "execution_count": 120,
      "outputs": [
        {
          "output_type": "stream",
          "text": [
            "fatal: destination path 'ssp19ai_utils' already exists and is not an empty directory.\n",
            "remote: Enumerating objects: 5, done.\u001b[K\n",
            "remote: Counting objects: 100% (5/5), done.\u001b[K\n",
            "remote: Compressing objects: 100% (2/2), done.\u001b[K\n",
            "remote: Total 3 (delta 0), reused 0 (delta 0), pack-reused 0\u001b[K\n",
            "Unpacking objects: 100% (3/3), done.\n",
            "From https://github.com/liady/ssp19ai_utils\n",
            "   172bee0..5b4ac72  master     -> origin/master\n",
            "Updating 172bee0..5b4ac72\n",
            "Fast-forward\n",
            " utils.py | 212 \u001b[32m+++++++++++++++++++++++++++++++++++++++++++++++++++++++++++++++\u001b[m\n",
            " 1 file changed, 212 insertions(+)\n"
          ],
          "name": "stdout"
        },
        {
          "output_type": "execute_result",
          "data": {
            "text/plain": [
              "<module 'ssp19ai_utils.utils' from '/content/ssp19ai_utils/utils.py'>"
            ]
          },
          "metadata": {
            "tags": []
          },
          "execution_count": 120
        }
      ]
    },
    {
      "cell_type": "code",
      "metadata": {
        "id": "cCN9gxfpQYzL",
        "colab_type": "code",
        "colab": {
          "base_uri": "https://localhost:8080/",
          "height": 34
        },
        "outputId": "f086796b-23da-4727-8ce8-d1b24ed661bf"
      },
      "source": [
        "from __future__ import absolute_import, division, print_function, unicode_literals\n",
        "\n",
        "# TensorFlow and tf.keras\n",
        "import tensorflow as tf # The framework to run our models\n",
        "from tensorflow import keras # High order layers, models, etc\n",
        "from keras.utils import to_categorical # Utilities\n",
        "from sklearn.utils import shuffle\n",
        "from sklearn.model_selection import train_test_split\n",
        "\n",
        "# Helper libraries\n",
        "import numpy as np\n",
        "import matplotlib.pyplot as plt\n",
        "\n",
        "print(\"TensorFlow version is \" + tf.__version__)"
      ],
      "execution_count": 113,
      "outputs": [
        {
          "output_type": "stream",
          "text": [
            "TensorFlow version is 2.0.0-beta1\n"
          ],
          "name": "stdout"
        }
      ]
    },
    {
      "cell_type": "markdown",
      "metadata": {
        "id": "_EnofqRpRxA3",
        "colab_type": "text"
      },
      "source": [
        "###Generate Data"
      ]
    },
    {
      "cell_type": "markdown",
      "metadata": {
        "id": "PluLh9IiRyua",
        "colab_type": "text"
      },
      "source": [
        "Let's generate our initial data. Note that the parameters are adjustable:"
      ]
    },
    {
      "cell_type": "code",
      "metadata": {
        "id": "LFjGeYYLoqyl",
        "colab_type": "code",
        "colab": {},
        "cellView": "both"
      },
      "source": [
        "POINTS_PER_CLASS = 100 # number of points per class\n",
        "NUMBER_OF_CLASSES = 3 # number of classes\n",
        "\n",
        "# Randomly generates data points and their labels\n",
        "points, labels = utils.generateDataPoints(NUMBER_OF_CLASSES, POINTS_PER_CLASS)"
      ],
      "execution_count": 0,
      "outputs": []
    },
    {
      "cell_type": "markdown",
      "metadata": {
        "id": "GXB23aUob9O4",
        "colab_type": "text"
      },
      "source": [
        "Take a look on our data shape:"
      ]
    },
    {
      "cell_type": "code",
      "metadata": {
        "id": "2Kh8jQT2cAPq",
        "colab_type": "code",
        "colab": {
          "base_uri": "https://localhost:8080/",
          "height": 34
        },
        "outputId": "50d5b8d1-c385-4e80-9a89-8c456c970445"
      },
      "source": [
        "points.shape"
      ],
      "execution_count": 72,
      "outputs": [
        {
          "output_type": "execute_result",
          "data": {
            "text/plain": [
              "(300, 2)"
            ]
          },
          "metadata": {
            "tags": []
          },
          "execution_count": 72
        }
      ]
    },
    {
      "cell_type": "markdown",
      "metadata": {
        "id": "c-TC-fB4cgK9",
        "colab_type": "text"
      },
      "source": [
        "Print some labels:"
      ]
    },
    {
      "cell_type": "code",
      "metadata": {
        "id": "ycpQVfb8ciHu",
        "colab_type": "code",
        "colab": {
          "base_uri": "https://localhost:8080/",
          "height": 34
        },
        "outputId": "6b2a2f36-9806-4d2f-c98c-efcae04349f5"
      },
      "source": [
        "print(labels[10], labels[110], labels[120], labels[250])"
      ],
      "execution_count": 73,
      "outputs": [
        {
          "output_type": "stream",
          "text": [
            "0 1 1 2\n"
          ],
          "name": "stdout"
        }
      ]
    },
    {
      "cell_type": "markdown",
      "metadata": {
        "id": "XJgDvK6acqGk",
        "colab_type": "text"
      },
      "source": [
        "Let's visualize the data on a graph:"
      ]
    },
    {
      "cell_type": "code",
      "metadata": {
        "id": "MdiTDSw5crsf",
        "colab_type": "code",
        "colab": {
          "base_uri": "https://localhost:8080/",
          "height": 269
        },
        "outputId": "503dca6d-5847-4e92-b235-6a494c33eb2b"
      },
      "source": [
        "# visualize the data:\n",
        "utils.visualize_points(points, labels)"
      ],
      "execution_count": 90,
      "outputs": [
        {
          "output_type": "display_data",
          "data": {
            "image/png": "[encoded data removed]",
            "text/plain": [
              "<Figure size 432x288 with 1 Axes>"
            ]
          },
          "metadata": {
            "tags": []
          }
        }
      ]
    },
    {
      "cell_type": "markdown",
      "metadata": {
        "id": "HsfzyHBmev_1",
        "colab_type": "text"
      },
      "source": [
        "### Build The Model"
      ]
    },
    {
      "cell_type": "code",
      "metadata": {
        "id": "aPX2svNto927",
        "colab_type": "code",
        "colab": {}
      },
      "source": [
        "# Define the architecture\n",
        "model = keras.Sequential([\n",
        "    keras.layers.Dense(100, input_dim=2, activation=\"relu\"),\n",
        "    keras.layers.Dense(3, activation=\"softmax\")\n",
        "])\n",
        "\n",
        "# Define the functionality\n",
        "model.compile(optimizer=\"adam\", loss=\"categorical_crossentropy\", metrics=[\"accuracy\"])"
      ],
      "execution_count": 0,
      "outputs": []
    },
    {
      "cell_type": "markdown",
      "metadata": {
        "id": "BQsgKmBvfx7Z",
        "colab_type": "text"
      },
      "source": [
        "###Prepare the data"
      ]
    },
    {
      "cell_type": "markdown",
      "metadata": {
        "id": "AyNBCWV3eYcK",
        "colab_type": "text"
      },
      "source": [
        "**Important!** Make sure to shuffle the data (why?):"
      ]
    },
    {
      "cell_type": "code",
      "metadata": {
        "id": "H1dMuw2RebsP",
        "colab_type": "code",
        "colab": {}
      },
      "source": [
        "points, labels = shuffle(points, labels)"
      ],
      "execution_count": 0,
      "outputs": []
    },
    {
      "cell_type": "markdown",
      "metadata": {
        "id": "5i6nOCx-f7Wp",
        "colab_type": "text"
      },
      "source": [
        "Change our labels to be *categorical* instead of *numerical*:"
      ]
    },
    {
      "cell_type": "code",
      "metadata": {
        "id": "fu63sBN4gAjl",
        "colab_type": "code",
        "colab": {}
      },
      "source": [
        "labels_categorical = to_categorical(labels)"
      ],
      "execution_count": 0,
      "outputs": []
    },
    {
      "cell_type": "markdown",
      "metadata": {
        "id": "jfa_-n8ajdED",
        "colab_type": "text"
      },
      "source": [
        "### Train the model!"
      ]
    },
    {
      "cell_type": "code",
      "metadata": {
        "id": "y3V2MK1OfZfX",
        "colab_type": "code",
        "colab": {
          "base_uri": "https://localhost:8080/",
          "height": 1000
        },
        "outputId": "f128ccf8-4045-4156-b3fe-a5f09e49000d"
      },
      "source": [
        "history = model.fit(points, labels_categorical, validation_split=0.25, epochs=500)"
      ],
      "execution_count": 100,
      "outputs": [
        {
          "output_type": "stream",
          "text": [
            "Train on 225 samples, validate on 75 samples\n",
            "Epoch 1/500\n",
            "225/225 [==============================] - 0s 934us/sample - loss: 1.0711 - accuracy: 0.4711 - val_loss: 1.0588 - val_accuracy: 0.4133\n",
            "Epoch 2/500\n",
            "225/225 [==============================] - 0s 103us/sample - loss: 1.0456 - accuracy: 0.4667 - val_loss: 1.0408 - val_accuracy: 0.4267\n",
            "Epoch 3/500\n",
            "225/225 [==============================] - 0s 94us/sample - loss: 1.0261 - accuracy: 0.4800 - val_loss: 1.0249 - val_accuracy: 0.4400\n",
            "Epoch 4/500\n",
            "225/225 [==============================] - 0s 94us/sample - loss: 1.0071 - accuracy: 0.5067 - val_loss: 1.0095 - val_accuracy: 0.4667\n",
            "Epoch 5/500\n",
            "225/225 [==============================] - 0s 85us/sample - loss: 0.9902 - accuracy: 0.5511 - val_loss: 0.9933 - val_accuracy: 0.4800\n",
            "Epoch 6/500\n",
            "225/225 [==============================] - 0s 93us/sample - loss: 0.9735 - accuracy: 0.5778 - val_loss: 0.9805 - val_accuracy: 0.4933\n",
            "Epoch 7/500\n",
            "225/225 [==============================] - 0s 99us/sample - loss: 0.9582 - accuracy: 0.5867 - val_loss: 0.9655 - val_accuracy: 0.5333\n",
            "Epoch 8/500\n",
            "225/225 [==============================] - 0s 85us/sample - loss: 0.9422 - accuracy: 0.6000 - val_loss: 0.9522 - val_accuracy: 0.5200\n",
            "Epoch 9/500\n",
            "225/225 [==============================] - 0s 89us/sample - loss: 0.9281 - accuracy: 0.5600 - val_loss: 0.9375 - val_accuracy: 0.5467\n",
            "Epoch 10/500\n",
            "225/225 [==============================] - 0s 99us/sample - loss: 0.9138 - accuracy: 0.5600 - val_loss: 0.9236 - val_accuracy: 0.5600\n",
            "Epoch 11/500\n",
            "225/225 [==============================] - 0s 90us/sample - loss: 0.8990 - accuracy: 0.5422 - val_loss: 0.9108 - val_accuracy: 0.5733\n",
            "Epoch 12/500\n",
            "225/225 [==============================] - 0s 94us/sample - loss: 0.8862 - accuracy: 0.5378 - val_loss: 0.8955 - val_accuracy: 0.6000\n",
            "Epoch 13/500\n",
            "225/225 [==============================] - 0s 88us/sample - loss: 0.8729 - accuracy: 0.5333 - val_loss: 0.8831 - val_accuracy: 0.6000\n",
            "Epoch 14/500\n",
            "225/225 [==============================] - 0s 119us/sample - loss: 0.8612 - accuracy: 0.5467 - val_loss: 0.8731 - val_accuracy: 0.6000\n",
            "Epoch 15/500\n",
            "225/225 [==============================] - 0s 98us/sample - loss: 0.8492 - accuracy: 0.5511 - val_loss: 0.8585 - val_accuracy: 0.6133\n",
            "Epoch 16/500\n",
            "225/225 [==============================] - 0s 87us/sample - loss: 0.8360 - accuracy: 0.5644 - val_loss: 0.8483 - val_accuracy: 0.5867\n",
            "Epoch 17/500\n",
            "225/225 [==============================] - 0s 107us/sample - loss: 0.8246 - accuracy: 0.5644 - val_loss: 0.8384 - val_accuracy: 0.5867\n",
            "Epoch 18/500\n",
            "225/225 [==============================] - 0s 99us/sample - loss: 0.8140 - accuracy: 0.5644 - val_loss: 0.8294 - val_accuracy: 0.5733\n",
            "Epoch 19/500\n",
            "225/225 [==============================] - 0s 109us/sample - loss: 0.8050 - accuracy: 0.5511 - val_loss: 0.8211 - val_accuracy: 0.5867\n",
            "Epoch 20/500\n",
            "225/225 [==============================] - 0s 94us/sample - loss: 0.7967 - accuracy: 0.5556 - val_loss: 0.8090 - val_accuracy: 0.5600\n",
            "Epoch 21/500\n",
            "225/225 [==============================] - 0s 87us/sample - loss: 0.7893 - accuracy: 0.5511 - val_loss: 0.7972 - val_accuracy: 0.5600\n",
            "Epoch 22/500\n",
            "225/225 [==============================] - 0s 96us/sample - loss: 0.7819 - accuracy: 0.5422 - val_loss: 0.7884 - val_accuracy: 0.5600\n",
            "Epoch 23/500\n",
            "225/225 [==============================] - 0s 107us/sample - loss: 0.7731 - accuracy: 0.5378 - val_loss: 0.7786 - val_accuracy: 0.5600\n",
            "Epoch 24/500\n",
            "225/225 [==============================] - 0s 108us/sample - loss: 0.7662 - accuracy: 0.5422 - val_loss: 0.7688 - val_accuracy: 0.5600\n",
            "Epoch 25/500\n",
            "225/225 [==============================] - 0s 96us/sample - loss: 0.7590 - accuracy: 0.5378 - val_loss: 0.7682 - val_accuracy: 0.5600\n",
            "Epoch 26/500\n",
            "225/225 [==============================] - 0s 106us/sample - loss: 0.7527 - accuracy: 0.5467 - val_loss: 0.7625 - val_accuracy: 0.5467\n",
            "Epoch 27/500\n",
            "225/225 [==============================] - 0s 94us/sample - loss: 0.7480 - accuracy: 0.5333 - val_loss: 0.7553 - val_accuracy: 0.5733\n",
            "Epoch 28/500\n",
            "225/225 [==============================] - 0s 139us/sample - loss: 0.7432 - accuracy: 0.5378 - val_loss: 0.7517 - val_accuracy: 0.5600\n",
            "Epoch 29/500\n",
            "225/225 [==============================] - 0s 97us/sample - loss: 0.7382 - accuracy: 0.5467 - val_loss: 0.7481 - val_accuracy: 0.5600\n",
            "Epoch 30/500\n",
            "225/225 [==============================] - 0s 106us/sample - loss: 0.7320 - accuracy: 0.5511 - val_loss: 0.7488 - val_accuracy: 0.5600\n",
            "Epoch 31/500\n",
            "225/225 [==============================] - 0s 104us/sample - loss: 0.7264 - accuracy: 0.5600 - val_loss: 0.7475 - val_accuracy: 0.5867\n",
            "Epoch 32/500\n",
            "225/225 [==============================] - 0s 97us/sample - loss: 0.7214 - accuracy: 0.5600 - val_loss: 0.7413 - val_accuracy: 0.5600\n",
            "Epoch 33/500\n",
            "225/225 [==============================] - 0s 86us/sample - loss: 0.7174 - accuracy: 0.5556 - val_loss: 0.7364 - val_accuracy: 0.5600\n",
            "Epoch 34/500\n",
            "225/225 [==============================] - 0s 93us/sample - loss: 0.7132 - accuracy: 0.5600 - val_loss: 0.7324 - val_accuracy: 0.5600\n",
            "Epoch 35/500\n",
            "225/225 [==============================] - 0s 99us/sample - loss: 0.7099 - accuracy: 0.5511 - val_loss: 0.7239 - val_accuracy: 0.5600\n",
            "Epoch 36/500\n",
            "225/225 [==============================] - 0s 86us/sample - loss: 0.7064 - accuracy: 0.5600 - val_loss: 0.7211 - val_accuracy: 0.5867\n",
            "Epoch 37/500\n",
            "225/225 [==============================] - 0s 102us/sample - loss: 0.7020 - accuracy: 0.5600 - val_loss: 0.7232 - val_accuracy: 0.5867\n",
            "Epoch 38/500\n",
            "225/225 [==============================] - 0s 95us/sample - loss: 0.6985 - accuracy: 0.5556 - val_loss: 0.7257 - val_accuracy: 0.6000\n",
            "Epoch 39/500\n",
            "225/225 [==============================] - 0s 133us/sample - loss: 0.6958 - accuracy: 0.5733 - val_loss: 0.7244 - val_accuracy: 0.6000\n",
            "Epoch 40/500\n",
            "225/225 [==============================] - 0s 124us/sample - loss: 0.6926 - accuracy: 0.5733 - val_loss: 0.7146 - val_accuracy: 0.5867\n",
            "Epoch 41/500\n",
            "225/225 [==============================] - 0s 86us/sample - loss: 0.6901 - accuracy: 0.5689 - val_loss: 0.7075 - val_accuracy: 0.5600\n",
            "Epoch 42/500\n",
            "225/225 [==============================] - 0s 96us/sample - loss: 0.6868 - accuracy: 0.5689 - val_loss: 0.7065 - val_accuracy: 0.5867\n",
            "Epoch 43/500\n",
            "225/225 [==============================] - 0s 96us/sample - loss: 0.6839 - accuracy: 0.5733 - val_loss: 0.6989 - val_accuracy: 0.6133\n",
            "Epoch 44/500\n",
            "225/225 [==============================] - 0s 98us/sample - loss: 0.6816 - accuracy: 0.5733 - val_loss: 0.6951 - val_accuracy: 0.6133\n",
            "Epoch 45/500\n",
            "225/225 [==============================] - 0s 97us/sample - loss: 0.6791 - accuracy: 0.5778 - val_loss: 0.6946 - val_accuracy: 0.6267\n",
            "Epoch 46/500\n",
            "225/225 [==============================] - 0s 95us/sample - loss: 0.6763 - accuracy: 0.5867 - val_loss: 0.6959 - val_accuracy: 0.6267\n",
            "Epoch 47/500\n",
            "225/225 [==============================] - 0s 97us/sample - loss: 0.6724 - accuracy: 0.5911 - val_loss: 0.6961 - val_accuracy: 0.6400\n",
            "Epoch 48/500\n",
            "225/225 [==============================] - 0s 94us/sample - loss: 0.6704 - accuracy: 0.5911 - val_loss: 0.6944 - val_accuracy: 0.6400\n",
            "Epoch 49/500\n",
            "225/225 [==============================] - 0s 108us/sample - loss: 0.6680 - accuracy: 0.5822 - val_loss: 0.6849 - val_accuracy: 0.6400\n",
            "Epoch 50/500\n",
            "225/225 [==============================] - 0s 115us/sample - loss: 0.6673 - accuracy: 0.5911 - val_loss: 0.6743 - val_accuracy: 0.6400\n",
            "Epoch 51/500\n",
            "225/225 [==============================] - 0s 102us/sample - loss: 0.6663 - accuracy: 0.5956 - val_loss: 0.6696 - val_accuracy: 0.6267\n",
            "Epoch 52/500\n",
            "225/225 [==============================] - 0s 104us/sample - loss: 0.6650 - accuracy: 0.5911 - val_loss: 0.6629 - val_accuracy: 0.6267\n",
            "Epoch 53/500\n",
            "225/225 [==============================] - 0s 91us/sample - loss: 0.6645 - accuracy: 0.5911 - val_loss: 0.6578 - val_accuracy: 0.6400\n",
            "Epoch 54/500\n",
            "225/225 [==============================] - 0s 99us/sample - loss: 0.6637 - accuracy: 0.6044 - val_loss: 0.6562 - val_accuracy: 0.6400\n",
            "Epoch 55/500\n",
            "225/225 [==============================] - 0s 96us/sample - loss: 0.6603 - accuracy: 0.6044 - val_loss: 0.6576 - val_accuracy: 0.6533\n",
            "Epoch 56/500\n",
            "225/225 [==============================] - 0s 95us/sample - loss: 0.6562 - accuracy: 0.6044 - val_loss: 0.6620 - val_accuracy: 0.6533\n",
            "Epoch 57/500\n",
            "225/225 [==============================] - 0s 90us/sample - loss: 0.6513 - accuracy: 0.6089 - val_loss: 0.6653 - val_accuracy: 0.6533\n",
            "Epoch 58/500\n",
            "225/225 [==============================] - 0s 85us/sample - loss: 0.6494 - accuracy: 0.5956 - val_loss: 0.6694 - val_accuracy: 0.6267\n",
            "Epoch 59/500\n",
            "225/225 [==============================] - 0s 85us/sample - loss: 0.6469 - accuracy: 0.5733 - val_loss: 0.6729 - val_accuracy: 0.6267\n",
            "Epoch 60/500\n",
            "225/225 [==============================] - 0s 90us/sample - loss: 0.6449 - accuracy: 0.5733 - val_loss: 0.6822 - val_accuracy: 0.6133\n",
            "Epoch 61/500\n",
            "225/225 [==============================] - 0s 91us/sample - loss: 0.6437 - accuracy: 0.5911 - val_loss: 0.6856 - val_accuracy: 0.6133\n",
            "Epoch 62/500\n",
            "225/225 [==============================] - 0s 88us/sample - loss: 0.6427 - accuracy: 0.5867 - val_loss: 0.6844 - val_accuracy: 0.6133\n",
            "Epoch 63/500\n",
            "225/225 [==============================] - 0s 110us/sample - loss: 0.6425 - accuracy: 0.5822 - val_loss: 0.6818 - val_accuracy: 0.6533\n",
            "Epoch 64/500\n",
            "225/225 [==============================] - 0s 95us/sample - loss: 0.6390 - accuracy: 0.6000 - val_loss: 0.6783 - val_accuracy: 0.6533\n",
            "Epoch 65/500\n",
            "225/225 [==============================] - 0s 88us/sample - loss: 0.6366 - accuracy: 0.5956 - val_loss: 0.6812 - val_accuracy: 0.6133\n",
            "Epoch 66/500\n",
            "225/225 [==============================] - 0s 85us/sample - loss: 0.6343 - accuracy: 0.6000 - val_loss: 0.6764 - val_accuracy: 0.6133\n",
            "Epoch 67/500\n",
            "225/225 [==============================] - 0s 94us/sample - loss: 0.6305 - accuracy: 0.5911 - val_loss: 0.6637 - val_accuracy: 0.6267\n",
            "Epoch 68/500\n",
            "225/225 [==============================] - 0s 95us/sample - loss: 0.6277 - accuracy: 0.5956 - val_loss: 0.6572 - val_accuracy: 0.6400\n",
            "Epoch 69/500\n",
            "225/225 [==============================] - 0s 93us/sample - loss: 0.6257 - accuracy: 0.6089 - val_loss: 0.6537 - val_accuracy: 0.6400\n",
            "Epoch 70/500\n",
            "225/225 [==============================] - 0s 96us/sample - loss: 0.6237 - accuracy: 0.6178 - val_loss: 0.6579 - val_accuracy: 0.6400\n",
            "Epoch 71/500\n",
            "225/225 [==============================] - 0s 86us/sample - loss: 0.6216 - accuracy: 0.6222 - val_loss: 0.6569 - val_accuracy: 0.6533\n",
            "Epoch 72/500\n",
            "225/225 [==============================] - 0s 97us/sample - loss: 0.6212 - accuracy: 0.6267 - val_loss: 0.6535 - val_accuracy: 0.6533\n",
            "Epoch 73/500\n",
            "225/225 [==============================] - 0s 86us/sample - loss: 0.6182 - accuracy: 0.6267 - val_loss: 0.6511 - val_accuracy: 0.6667\n",
            "Epoch 74/500\n",
            "225/225 [==============================] - 0s 95us/sample - loss: 0.6161 - accuracy: 0.6311 - val_loss: 0.6479 - val_accuracy: 0.6533\n",
            "Epoch 75/500\n",
            "225/225 [==============================] - 0s 86us/sample - loss: 0.6136 - accuracy: 0.6267 - val_loss: 0.6475 - val_accuracy: 0.6533\n",
            "Epoch 76/500\n",
            "225/225 [==============================] - 0s 90us/sample - loss: 0.6123 - accuracy: 0.6267 - val_loss: 0.6542 - val_accuracy: 0.6533\n",
            "Epoch 77/500\n",
            "225/225 [==============================] - 0s 96us/sample - loss: 0.6105 - accuracy: 0.6222 - val_loss: 0.6530 - val_accuracy: 0.6400\n",
            "Epoch 78/500\n",
            "225/225 [==============================] - 0s 84us/sample - loss: 0.6085 - accuracy: 0.6133 - val_loss: 0.6411 - val_accuracy: 0.6400\n",
            "Epoch 79/500\n",
            "225/225 [==============================] - 0s 96us/sample - loss: 0.6071 - accuracy: 0.6044 - val_loss: 0.6392 - val_accuracy: 0.6667\n",
            "Epoch 80/500\n",
            "225/225 [==============================] - 0s 84us/sample - loss: 0.6045 - accuracy: 0.6267 - val_loss: 0.6345 - val_accuracy: 0.6800\n",
            "Epoch 81/500\n",
            "225/225 [==============================] - 0s 86us/sample - loss: 0.6022 - accuracy: 0.6267 - val_loss: 0.6318 - val_accuracy: 0.6933\n",
            "Epoch 82/500\n",
            "225/225 [==============================] - 0s 101us/sample - loss: 0.6001 - accuracy: 0.6267 - val_loss: 0.6277 - val_accuracy: 0.6800\n",
            "Epoch 83/500\n",
            "225/225 [==============================] - 0s 108us/sample - loss: 0.5983 - accuracy: 0.6311 - val_loss: 0.6165 - val_accuracy: 0.6800\n",
            "Epoch 84/500\n",
            "225/225 [==============================] - 0s 100us/sample - loss: 0.5969 - accuracy: 0.6267 - val_loss: 0.6113 - val_accuracy: 0.6800\n",
            "Epoch 85/500\n",
            "225/225 [==============================] - 0s 91us/sample - loss: 0.5956 - accuracy: 0.6356 - val_loss: 0.6145 - val_accuracy: 0.6800\n",
            "Epoch 86/500\n",
            "225/225 [==============================] - 0s 93us/sample - loss: 0.5929 - accuracy: 0.6533 - val_loss: 0.6152 - val_accuracy: 0.6800\n",
            "Epoch 87/500\n",
            "225/225 [==============================] - 0s 90us/sample - loss: 0.5893 - accuracy: 0.6578 - val_loss: 0.6134 - val_accuracy: 0.6667\n",
            "Epoch 88/500\n",
            "225/225 [==============================] - 0s 83us/sample - loss: 0.5867 - accuracy: 0.6489 - val_loss: 0.6060 - val_accuracy: 0.6800\n",
            "Epoch 89/500\n",
            "225/225 [==============================] - 0s 83us/sample - loss: 0.5872 - accuracy: 0.6533 - val_loss: 0.6031 - val_accuracy: 0.7067\n",
            "Epoch 90/500\n",
            "225/225 [==============================] - 0s 93us/sample - loss: 0.5876 - accuracy: 0.6533 - val_loss: 0.5956 - val_accuracy: 0.7067\n",
            "Epoch 91/500\n",
            "225/225 [==============================] - 0s 88us/sample - loss: 0.5842 - accuracy: 0.6578 - val_loss: 0.5933 - val_accuracy: 0.6933\n",
            "Epoch 92/500\n",
            "225/225 [==============================] - 0s 85us/sample - loss: 0.5811 - accuracy: 0.6489 - val_loss: 0.5888 - val_accuracy: 0.6800\n",
            "Epoch 93/500\n",
            "225/225 [==============================] - 0s 116us/sample - loss: 0.5798 - accuracy: 0.6444 - val_loss: 0.5877 - val_accuracy: 0.6933\n",
            "Epoch 94/500\n",
            "225/225 [==============================] - 0s 87us/sample - loss: 0.5789 - accuracy: 0.6578 - val_loss: 0.5821 - val_accuracy: 0.6800\n",
            "Epoch 95/500\n",
            "225/225 [==============================] - 0s 88us/sample - loss: 0.5764 - accuracy: 0.6533 - val_loss: 0.5827 - val_accuracy: 0.6800\n",
            "Epoch 96/500\n",
            "225/225 [==============================] - 0s 137us/sample - loss: 0.5730 - accuracy: 0.6622 - val_loss: 0.5865 - val_accuracy: 0.6933\n",
            "Epoch 97/500\n",
            "225/225 [==============================] - 0s 98us/sample - loss: 0.5691 - accuracy: 0.6667 - val_loss: 0.5979 - val_accuracy: 0.6800\n",
            "Epoch 98/500\n",
            "225/225 [==============================] - 0s 109us/sample - loss: 0.5672 - accuracy: 0.6756 - val_loss: 0.6037 - val_accuracy: 0.6933\n",
            "Epoch 99/500\n",
            "225/225 [==============================] - 0s 111us/sample - loss: 0.5664 - accuracy: 0.6667 - val_loss: 0.6056 - val_accuracy: 0.7067\n",
            "Epoch 100/500\n",
            "225/225 [==============================] - 0s 89us/sample - loss: 0.5643 - accuracy: 0.6933 - val_loss: 0.6098 - val_accuracy: 0.7067\n",
            "Epoch 101/500\n",
            "225/225 [==============================] - 0s 93us/sample - loss: 0.5627 - accuracy: 0.7022 - val_loss: 0.6112 - val_accuracy: 0.6933\n",
            "Epoch 102/500\n",
            "225/225 [==============================] - 0s 98us/sample - loss: 0.5610 - accuracy: 0.7067 - val_loss: 0.6149 - val_accuracy: 0.7333\n",
            "Epoch 103/500\n",
            "225/225 [==============================] - 0s 82us/sample - loss: 0.5599 - accuracy: 0.7378 - val_loss: 0.6117 - val_accuracy: 0.7333\n",
            "Epoch 104/500\n",
            "225/225 [==============================] - 0s 97us/sample - loss: 0.5576 - accuracy: 0.7422 - val_loss: 0.6083 - val_accuracy: 0.7333\n",
            "Epoch 105/500\n",
            "225/225 [==============================] - 0s 123us/sample - loss: 0.5543 - accuracy: 0.7289 - val_loss: 0.5965 - val_accuracy: 0.7200\n",
            "Epoch 106/500\n",
            "225/225 [==============================] - 0s 86us/sample - loss: 0.5532 - accuracy: 0.7156 - val_loss: 0.5798 - val_accuracy: 0.6933\n",
            "Epoch 107/500\n",
            "225/225 [==============================] - 0s 100us/sample - loss: 0.5488 - accuracy: 0.7022 - val_loss: 0.5776 - val_accuracy: 0.7200\n",
            "Epoch 108/500\n",
            "225/225 [==============================] - 0s 88us/sample - loss: 0.5495 - accuracy: 0.6933 - val_loss: 0.5735 - val_accuracy: 0.7200\n",
            "Epoch 109/500\n",
            "225/225 [==============================] - 0s 87us/sample - loss: 0.5484 - accuracy: 0.6889 - val_loss: 0.5659 - val_accuracy: 0.7067\n",
            "Epoch 110/500\n",
            "225/225 [==============================] - 0s 87us/sample - loss: 0.5426 - accuracy: 0.7067 - val_loss: 0.5668 - val_accuracy: 0.6933\n",
            "Epoch 111/500\n",
            "225/225 [==============================] - 0s 104us/sample - loss: 0.5398 - accuracy: 0.7200 - val_loss: 0.5700 - val_accuracy: 0.7333\n",
            "Epoch 112/500\n",
            "225/225 [==============================] - 0s 83us/sample - loss: 0.5367 - accuracy: 0.7422 - val_loss: 0.5712 - val_accuracy: 0.7333\n",
            "Epoch 113/500\n",
            "225/225 [==============================] - 0s 110us/sample - loss: 0.5353 - accuracy: 0.7422 - val_loss: 0.5723 - val_accuracy: 0.7333\n",
            "Epoch 114/500\n",
            "225/225 [==============================] - 0s 108us/sample - loss: 0.5336 - accuracy: 0.7467 - val_loss: 0.5712 - val_accuracy: 0.7333\n",
            "Epoch 115/500\n",
            "225/225 [==============================] - 0s 96us/sample - loss: 0.5322 - accuracy: 0.7467 - val_loss: 0.5688 - val_accuracy: 0.7333\n",
            "Epoch 116/500\n",
            "225/225 [==============================] - 0s 103us/sample - loss: 0.5305 - accuracy: 0.7467 - val_loss: 0.5679 - val_accuracy: 0.7333\n",
            "Epoch 117/500\n",
            "225/225 [==============================] - 0s 104us/sample - loss: 0.5286 - accuracy: 0.7556 - val_loss: 0.5703 - val_accuracy: 0.7467\n",
            "Epoch 118/500\n",
            "225/225 [==============================] - 0s 108us/sample - loss: 0.5267 - accuracy: 0.7511 - val_loss: 0.5575 - val_accuracy: 0.7333\n",
            "Epoch 119/500\n",
            "225/225 [==============================] - 0s 94us/sample - loss: 0.5247 - accuracy: 0.7333 - val_loss: 0.5546 - val_accuracy: 0.7333\n",
            "Epoch 120/500\n",
            "225/225 [==============================] - 0s 112us/sample - loss: 0.5228 - accuracy: 0.7600 - val_loss: 0.5587 - val_accuracy: 0.7467\n",
            "Epoch 121/500\n",
            "225/225 [==============================] - 0s 89us/sample - loss: 0.5206 - accuracy: 0.7556 - val_loss: 0.5609 - val_accuracy: 0.7467\n",
            "Epoch 122/500\n",
            "225/225 [==============================] - 0s 88us/sample - loss: 0.5194 - accuracy: 0.7600 - val_loss: 0.5661 - val_accuracy: 0.7467\n",
            "Epoch 123/500\n",
            "225/225 [==============================] - 0s 111us/sample - loss: 0.5207 - accuracy: 0.7733 - val_loss: 0.5720 - val_accuracy: 0.7467\n",
            "Epoch 124/500\n",
            "225/225 [==============================] - 0s 112us/sample - loss: 0.5177 - accuracy: 0.7733 - val_loss: 0.5650 - val_accuracy: 0.7467\n",
            "Epoch 125/500\n",
            "225/225 [==============================] - 0s 104us/sample - loss: 0.5143 - accuracy: 0.7822 - val_loss: 0.5480 - val_accuracy: 0.7467\n",
            "Epoch 126/500\n",
            "225/225 [==============================] - 0s 97us/sample - loss: 0.5097 - accuracy: 0.7778 - val_loss: 0.5400 - val_accuracy: 0.7333\n",
            "Epoch 127/500\n",
            "225/225 [==============================] - 0s 98us/sample - loss: 0.5080 - accuracy: 0.7778 - val_loss: 0.5366 - val_accuracy: 0.7333\n",
            "Epoch 128/500\n",
            "225/225 [==============================] - 0s 99us/sample - loss: 0.5066 - accuracy: 0.7689 - val_loss: 0.5351 - val_accuracy: 0.7333\n",
            "Epoch 129/500\n",
            "225/225 [==============================] - 0s 118us/sample - loss: 0.5043 - accuracy: 0.7778 - val_loss: 0.5392 - val_accuracy: 0.7467\n",
            "Epoch 130/500\n",
            "225/225 [==============================] - 0s 91us/sample - loss: 0.5027 - accuracy: 0.7822 - val_loss: 0.5402 - val_accuracy: 0.7467\n",
            "Epoch 131/500\n",
            "225/225 [==============================] - 0s 90us/sample - loss: 0.5009 - accuracy: 0.7911 - val_loss: 0.5378 - val_accuracy: 0.7467\n",
            "Epoch 132/500\n",
            "225/225 [==============================] - 0s 91us/sample - loss: 0.4984 - accuracy: 0.7822 - val_loss: 0.5363 - val_accuracy: 0.7467\n",
            "Epoch 133/500\n",
            "225/225 [==============================] - 0s 86us/sample - loss: 0.4966 - accuracy: 0.7911 - val_loss: 0.5394 - val_accuracy: 0.7467\n",
            "Epoch 134/500\n",
            "225/225 [==============================] - 0s 85us/sample - loss: 0.4942 - accuracy: 0.7911 - val_loss: 0.5385 - val_accuracy: 0.7467\n",
            "Epoch 135/500\n",
            "225/225 [==============================] - 0s 100us/sample - loss: 0.4925 - accuracy: 0.7911 - val_loss: 0.5363 - val_accuracy: 0.7467\n",
            "Epoch 136/500\n",
            "225/225 [==============================] - 0s 88us/sample - loss: 0.4901 - accuracy: 0.7956 - val_loss: 0.5314 - val_accuracy: 0.7467\n",
            "Epoch 137/500\n",
            "225/225 [==============================] - 0s 100us/sample - loss: 0.4879 - accuracy: 0.7956 - val_loss: 0.5288 - val_accuracy: 0.7467\n",
            "Epoch 138/500\n",
            "225/225 [==============================] - 0s 93us/sample - loss: 0.4859 - accuracy: 0.8000 - val_loss: 0.5250 - val_accuracy: 0.7467\n",
            "Epoch 139/500\n",
            "225/225 [==============================] - 0s 88us/sample - loss: 0.4836 - accuracy: 0.8000 - val_loss: 0.5233 - val_accuracy: 0.7467\n",
            "Epoch 140/500\n",
            "225/225 [==============================] - 0s 88us/sample - loss: 0.4819 - accuracy: 0.8044 - val_loss: 0.5201 - val_accuracy: 0.7467\n",
            "Epoch 141/500\n",
            "225/225 [==============================] - 0s 93us/sample - loss: 0.4790 - accuracy: 0.8000 - val_loss: 0.5103 - val_accuracy: 0.7333\n",
            "Epoch 142/500\n",
            "225/225 [==============================] - 0s 86us/sample - loss: 0.4775 - accuracy: 0.7911 - val_loss: 0.5051 - val_accuracy: 0.7333\n",
            "Epoch 143/500\n",
            "225/225 [==============================] - 0s 91us/sample - loss: 0.4761 - accuracy: 0.7822 - val_loss: 0.4969 - val_accuracy: 0.7600\n",
            "Epoch 144/500\n",
            "225/225 [==============================] - 0s 86us/sample - loss: 0.4742 - accuracy: 0.7689 - val_loss: 0.4944 - val_accuracy: 0.7600\n",
            "Epoch 145/500\n",
            "225/225 [==============================] - 0s 86us/sample - loss: 0.4721 - accuracy: 0.7733 - val_loss: 0.4957 - val_accuracy: 0.7600\n",
            "Epoch 146/500\n",
            "225/225 [==============================] - 0s 107us/sample - loss: 0.4695 - accuracy: 0.7911 - val_loss: 0.5021 - val_accuracy: 0.7467\n",
            "Epoch 147/500\n",
            "225/225 [==============================] - 0s 90us/sample - loss: 0.4680 - accuracy: 0.7956 - val_loss: 0.5093 - val_accuracy: 0.7467\n",
            "Epoch 148/500\n",
            "225/225 [==============================] - 0s 89us/sample - loss: 0.4673 - accuracy: 0.8178 - val_loss: 0.5169 - val_accuracy: 0.7467\n",
            "Epoch 149/500\n",
            "225/225 [==============================] - 0s 91us/sample - loss: 0.4667 - accuracy: 0.8178 - val_loss: 0.5210 - val_accuracy: 0.7467\n",
            "Epoch 150/500\n",
            "225/225 [==============================] - 0s 103us/sample - loss: 0.4660 - accuracy: 0.8222 - val_loss: 0.5169 - val_accuracy: 0.7467\n",
            "Epoch 151/500\n",
            "225/225 [==============================] - 0s 92us/sample - loss: 0.4618 - accuracy: 0.8222 - val_loss: 0.5099 - val_accuracy: 0.7467\n",
            "Epoch 152/500\n",
            "225/225 [==============================] - 0s 88us/sample - loss: 0.4588 - accuracy: 0.8222 - val_loss: 0.5054 - val_accuracy: 0.7467\n",
            "Epoch 153/500\n",
            "225/225 [==============================] - 0s 87us/sample - loss: 0.4554 - accuracy: 0.8267 - val_loss: 0.5008 - val_accuracy: 0.7467\n",
            "Epoch 154/500\n",
            "225/225 [==============================] - 0s 90us/sample - loss: 0.4540 - accuracy: 0.8267 - val_loss: 0.4992 - val_accuracy: 0.7467\n",
            "Epoch 155/500\n",
            "225/225 [==============================] - 0s 84us/sample - loss: 0.4516 - accuracy: 0.8267 - val_loss: 0.4976 - val_accuracy: 0.7467\n",
            "Epoch 156/500\n",
            "225/225 [==============================] - 0s 94us/sample - loss: 0.4503 - accuracy: 0.8267 - val_loss: 0.4975 - val_accuracy: 0.7600\n",
            "Epoch 157/500\n",
            "225/225 [==============================] - 0s 92us/sample - loss: 0.4490 - accuracy: 0.8267 - val_loss: 0.4962 - val_accuracy: 0.7600\n",
            "Epoch 158/500\n",
            "225/225 [==============================] - 0s 99us/sample - loss: 0.4467 - accuracy: 0.8311 - val_loss: 0.4950 - val_accuracy: 0.7600\n",
            "Epoch 159/500\n",
            "225/225 [==============================] - 0s 104us/sample - loss: 0.4439 - accuracy: 0.8267 - val_loss: 0.4794 - val_accuracy: 0.7733\n",
            "Epoch 160/500\n",
            "225/225 [==============================] - 0s 87us/sample - loss: 0.4424 - accuracy: 0.8178 - val_loss: 0.4654 - val_accuracy: 0.7733\n",
            "Epoch 161/500\n",
            "225/225 [==============================] - 0s 98us/sample - loss: 0.4400 - accuracy: 0.8133 - val_loss: 0.4597 - val_accuracy: 0.8000\n",
            "Epoch 162/500\n",
            "225/225 [==============================] - 0s 86us/sample - loss: 0.4382 - accuracy: 0.8133 - val_loss: 0.4562 - val_accuracy: 0.8000\n",
            "Epoch 163/500\n",
            "225/225 [==============================] - 0s 83us/sample - loss: 0.4358 - accuracy: 0.8222 - val_loss: 0.4586 - val_accuracy: 0.7733\n",
            "Epoch 164/500\n",
            "225/225 [==============================] - 0s 92us/sample - loss: 0.4326 - accuracy: 0.8222 - val_loss: 0.4594 - val_accuracy: 0.7733\n",
            "Epoch 165/500\n",
            "225/225 [==============================] - 0s 86us/sample - loss: 0.4306 - accuracy: 0.8133 - val_loss: 0.4596 - val_accuracy: 0.7867\n",
            "Epoch 166/500\n",
            "225/225 [==============================] - 0s 88us/sample - loss: 0.4283 - accuracy: 0.8267 - val_loss: 0.4625 - val_accuracy: 0.7867\n",
            "Epoch 167/500\n",
            "225/225 [==============================] - 0s 94us/sample - loss: 0.4261 - accuracy: 0.8267 - val_loss: 0.4616 - val_accuracy: 0.7733\n",
            "Epoch 168/500\n",
            "225/225 [==============================] - 0s 102us/sample - loss: 0.4241 - accuracy: 0.8356 - val_loss: 0.4589 - val_accuracy: 0.7733\n",
            "Epoch 169/500\n",
            "225/225 [==============================] - 0s 91us/sample - loss: 0.4231 - accuracy: 0.8267 - val_loss: 0.4570 - val_accuracy: 0.7733\n",
            "Epoch 170/500\n",
            "225/225 [==============================] - 0s 79us/sample - loss: 0.4216 - accuracy: 0.8311 - val_loss: 0.4583 - val_accuracy: 0.7733\n",
            "Epoch 171/500\n",
            "225/225 [==============================] - 0s 93us/sample - loss: 0.4190 - accuracy: 0.8356 - val_loss: 0.4513 - val_accuracy: 0.7867\n",
            "Epoch 172/500\n",
            "225/225 [==============================] - 0s 88us/sample - loss: 0.4160 - accuracy: 0.8400 - val_loss: 0.4470 - val_accuracy: 0.7867\n",
            "Epoch 173/500\n",
            "225/225 [==============================] - 0s 96us/sample - loss: 0.4139 - accuracy: 0.8444 - val_loss: 0.4441 - val_accuracy: 0.7867\n",
            "Epoch 174/500\n",
            "225/225 [==============================] - 0s 94us/sample - loss: 0.4120 - accuracy: 0.8533 - val_loss: 0.4452 - val_accuracy: 0.8000\n",
            "Epoch 175/500\n",
            "225/225 [==============================] - 0s 98us/sample - loss: 0.4100 - accuracy: 0.8578 - val_loss: 0.4511 - val_accuracy: 0.8000\n",
            "Epoch 176/500\n",
            "225/225 [==============================] - 0s 99us/sample - loss: 0.4086 - accuracy: 0.8622 - val_loss: 0.4528 - val_accuracy: 0.8000\n",
            "Epoch 177/500\n",
            "225/225 [==============================] - 0s 87us/sample - loss: 0.4079 - accuracy: 0.8622 - val_loss: 0.4519 - val_accuracy: 0.8133\n",
            "Epoch 178/500\n",
            "225/225 [==============================] - 0s 105us/sample - loss: 0.4066 - accuracy: 0.8667 - val_loss: 0.4487 - val_accuracy: 0.8133\n",
            "Epoch 179/500\n",
            "225/225 [==============================] - 0s 82us/sample - loss: 0.4039 - accuracy: 0.8667 - val_loss: 0.4451 - val_accuracy: 0.8000\n",
            "Epoch 180/500\n",
            "225/225 [==============================] - 0s 88us/sample - loss: 0.4016 - accuracy: 0.8533 - val_loss: 0.4389 - val_accuracy: 0.8133\n",
            "Epoch 181/500\n",
            "225/225 [==============================] - 0s 111us/sample - loss: 0.3981 - accuracy: 0.8622 - val_loss: 0.4338 - val_accuracy: 0.8000\n",
            "Epoch 182/500\n",
            "225/225 [==============================] - 0s 95us/sample - loss: 0.3971 - accuracy: 0.8622 - val_loss: 0.4347 - val_accuracy: 0.8000\n",
            "Epoch 183/500\n",
            "225/225 [==============================] - 0s 90us/sample - loss: 0.3960 - accuracy: 0.8711 - val_loss: 0.4320 - val_accuracy: 0.7867\n",
            "Epoch 184/500\n",
            "225/225 [==============================] - 0s 99us/sample - loss: 0.3930 - accuracy: 0.8622 - val_loss: 0.4290 - val_accuracy: 0.8000\n",
            "Epoch 185/500\n",
            "225/225 [==============================] - 0s 110us/sample - loss: 0.3910 - accuracy: 0.8622 - val_loss: 0.4270 - val_accuracy: 0.8000\n",
            "Epoch 186/500\n",
            "225/225 [==============================] - 0s 90us/sample - loss: 0.3904 - accuracy: 0.8711 - val_loss: 0.4266 - val_accuracy: 0.8000\n",
            "Epoch 187/500\n",
            "225/225 [==============================] - 0s 107us/sample - loss: 0.3911 - accuracy: 0.8578 - val_loss: 0.4261 - val_accuracy: 0.8133\n",
            "Epoch 188/500\n",
            "225/225 [==============================] - 0s 112us/sample - loss: 0.3910 - accuracy: 0.8711 - val_loss: 0.4257 - val_accuracy: 0.8267\n",
            "Epoch 189/500\n",
            "225/225 [==============================] - 0s 96us/sample - loss: 0.3884 - accuracy: 0.8711 - val_loss: 0.4225 - val_accuracy: 0.8133\n",
            "Epoch 190/500\n",
            "225/225 [==============================] - 0s 95us/sample - loss: 0.3842 - accuracy: 0.8667 - val_loss: 0.4169 - val_accuracy: 0.8267\n",
            "Epoch 191/500\n",
            "225/225 [==============================] - 0s 101us/sample - loss: 0.3810 - accuracy: 0.8667 - val_loss: 0.4158 - val_accuracy: 0.8133\n",
            "Epoch 192/500\n",
            "225/225 [==============================] - 0s 87us/sample - loss: 0.3804 - accuracy: 0.8711 - val_loss: 0.4207 - val_accuracy: 0.7867\n",
            "Epoch 193/500\n",
            "225/225 [==============================] - 0s 94us/sample - loss: 0.3787 - accuracy: 0.8800 - val_loss: 0.4228 - val_accuracy: 0.8000\n",
            "Epoch 194/500\n",
            "225/225 [==============================] - 0s 90us/sample - loss: 0.3770 - accuracy: 0.8844 - val_loss: 0.4249 - val_accuracy: 0.8133\n",
            "Epoch 195/500\n",
            "225/225 [==============================] - 0s 99us/sample - loss: 0.3757 - accuracy: 0.8844 - val_loss: 0.4224 - val_accuracy: 0.8133\n",
            "Epoch 196/500\n",
            "225/225 [==============================] - 0s 89us/sample - loss: 0.3731 - accuracy: 0.8844 - val_loss: 0.4128 - val_accuracy: 0.8267\n",
            "Epoch 197/500\n",
            "225/225 [==============================] - 0s 101us/sample - loss: 0.3709 - accuracy: 0.8711 - val_loss: 0.4105 - val_accuracy: 0.8133\n",
            "Epoch 198/500\n",
            "225/225 [==============================] - 0s 91us/sample - loss: 0.3704 - accuracy: 0.8889 - val_loss: 0.4069 - val_accuracy: 0.8267\n",
            "Epoch 199/500\n",
            "225/225 [==============================] - 0s 90us/sample - loss: 0.3687 - accuracy: 0.8756 - val_loss: 0.4030 - val_accuracy: 0.8400\n",
            "Epoch 200/500\n",
            "225/225 [==============================] - 0s 90us/sample - loss: 0.3663 - accuracy: 0.8756 - val_loss: 0.4055 - val_accuracy: 0.8400\n",
            "Epoch 201/500\n",
            "225/225 [==============================] - 0s 96us/sample - loss: 0.3644 - accuracy: 0.8889 - val_loss: 0.4045 - val_accuracy: 0.8267\n",
            "Epoch 202/500\n",
            "225/225 [==============================] - 0s 84us/sample - loss: 0.3635 - accuracy: 0.8978 - val_loss: 0.4015 - val_accuracy: 0.8267\n",
            "Epoch 203/500\n",
            "225/225 [==============================] - 0s 93us/sample - loss: 0.3619 - accuracy: 0.8889 - val_loss: 0.3952 - val_accuracy: 0.8400\n",
            "Epoch 204/500\n",
            "225/225 [==============================] - 0s 93us/sample - loss: 0.3595 - accuracy: 0.8889 - val_loss: 0.3902 - val_accuracy: 0.8267\n",
            "Epoch 205/500\n",
            "225/225 [==============================] - 0s 89us/sample - loss: 0.3573 - accuracy: 0.9022 - val_loss: 0.3880 - val_accuracy: 0.8133\n",
            "Epoch 206/500\n",
            "225/225 [==============================] - 0s 83us/sample - loss: 0.3556 - accuracy: 0.9067 - val_loss: 0.3920 - val_accuracy: 0.8133\n",
            "Epoch 207/500\n",
            "225/225 [==============================] - 0s 102us/sample - loss: 0.3540 - accuracy: 0.8933 - val_loss: 0.3964 - val_accuracy: 0.8133\n",
            "Epoch 208/500\n",
            "225/225 [==============================] - 0s 86us/sample - loss: 0.3533 - accuracy: 0.8844 - val_loss: 0.3990 - val_accuracy: 0.8133\n",
            "Epoch 209/500\n",
            "225/225 [==============================] - 0s 97us/sample - loss: 0.3516 - accuracy: 0.8844 - val_loss: 0.3949 - val_accuracy: 0.8133\n",
            "Epoch 210/500\n",
            "225/225 [==============================] - 0s 92us/sample - loss: 0.3500 - accuracy: 0.8844 - val_loss: 0.3895 - val_accuracy: 0.8133\n",
            "Epoch 211/500\n",
            "225/225 [==============================] - 0s 86us/sample - loss: 0.3490 - accuracy: 0.8844 - val_loss: 0.3927 - val_accuracy: 0.8133\n",
            "Epoch 212/500\n",
            "225/225 [==============================] - 0s 86us/sample - loss: 0.3474 - accuracy: 0.8844 - val_loss: 0.3906 - val_accuracy: 0.8133\n",
            "Epoch 213/500\n",
            "225/225 [==============================] - 0s 87us/sample - loss: 0.3454 - accuracy: 0.8844 - val_loss: 0.3869 - val_accuracy: 0.8133\n",
            "Epoch 214/500\n",
            "225/225 [==============================] - 0s 85us/sample - loss: 0.3430 - accuracy: 0.8933 - val_loss: 0.3814 - val_accuracy: 0.8133\n",
            "Epoch 215/500\n",
            "225/225 [==============================] - 0s 95us/sample - loss: 0.3414 - accuracy: 0.8933 - val_loss: 0.3752 - val_accuracy: 0.8133\n",
            "Epoch 216/500\n",
            "225/225 [==============================] - 0s 86us/sample - loss: 0.3410 - accuracy: 0.8978 - val_loss: 0.3717 - val_accuracy: 0.8267\n",
            "Epoch 217/500\n",
            "225/225 [==============================] - 0s 98us/sample - loss: 0.3435 - accuracy: 0.8889 - val_loss: 0.3710 - val_accuracy: 0.8267\n",
            "Epoch 218/500\n",
            "225/225 [==============================] - 0s 110us/sample - loss: 0.3424 - accuracy: 0.8933 - val_loss: 0.3698 - val_accuracy: 0.8267\n",
            "Epoch 219/500\n",
            "225/225 [==============================] - 0s 90us/sample - loss: 0.3404 - accuracy: 0.9067 - val_loss: 0.3703 - val_accuracy: 0.8267\n",
            "Epoch 220/500\n",
            "225/225 [==============================] - 0s 87us/sample - loss: 0.3372 - accuracy: 0.9067 - val_loss: 0.3752 - val_accuracy: 0.8267\n",
            "Epoch 221/500\n",
            "225/225 [==============================] - 0s 90us/sample - loss: 0.3342 - accuracy: 0.8978 - val_loss: 0.3685 - val_accuracy: 0.8267\n",
            "Epoch 222/500\n",
            "225/225 [==============================] - 0s 93us/sample - loss: 0.3310 - accuracy: 0.8933 - val_loss: 0.3614 - val_accuracy: 0.8400\n",
            "Epoch 223/500\n",
            "225/225 [==============================] - 0s 89us/sample - loss: 0.3284 - accuracy: 0.8933 - val_loss: 0.3595 - val_accuracy: 0.8533\n",
            "Epoch 224/500\n",
            "225/225 [==============================] - 0s 88us/sample - loss: 0.3266 - accuracy: 0.8978 - val_loss: 0.3641 - val_accuracy: 0.8400\n",
            "Epoch 225/500\n",
            "225/225 [==============================] - 0s 90us/sample - loss: 0.3252 - accuracy: 0.8978 - val_loss: 0.3672 - val_accuracy: 0.8400\n",
            "Epoch 226/500\n",
            "225/225 [==============================] - 0s 91us/sample - loss: 0.3246 - accuracy: 0.8933 - val_loss: 0.3712 - val_accuracy: 0.8267\n",
            "Epoch 227/500\n",
            "225/225 [==============================] - 0s 84us/sample - loss: 0.3239 - accuracy: 0.9022 - val_loss: 0.3689 - val_accuracy: 0.8267\n",
            "Epoch 228/500\n",
            "225/225 [==============================] - 0s 107us/sample - loss: 0.3217 - accuracy: 0.9111 - val_loss: 0.3688 - val_accuracy: 0.8400\n",
            "Epoch 229/500\n",
            "225/225 [==============================] - 0s 88us/sample - loss: 0.3213 - accuracy: 0.9111 - val_loss: 0.3648 - val_accuracy: 0.8400\n",
            "Epoch 230/500\n",
            "225/225 [==============================] - 0s 87us/sample - loss: 0.3185 - accuracy: 0.9111 - val_loss: 0.3567 - val_accuracy: 0.8400\n",
            "Epoch 231/500\n",
            "225/225 [==============================] - 0s 94us/sample - loss: 0.3172 - accuracy: 0.8978 - val_loss: 0.3569 - val_accuracy: 0.8533\n",
            "Epoch 232/500\n",
            "225/225 [==============================] - 0s 87us/sample - loss: 0.3163 - accuracy: 0.8978 - val_loss: 0.3550 - val_accuracy: 0.8533\n",
            "Epoch 233/500\n",
            "225/225 [==============================] - 0s 90us/sample - loss: 0.3147 - accuracy: 0.8978 - val_loss: 0.3536 - val_accuracy: 0.8533\n",
            "Epoch 234/500\n",
            "225/225 [==============================] - 0s 94us/sample - loss: 0.3139 - accuracy: 0.8978 - val_loss: 0.3544 - val_accuracy: 0.8533\n",
            "Epoch 235/500\n",
            "225/225 [==============================] - 0s 84us/sample - loss: 0.3126 - accuracy: 0.8978 - val_loss: 0.3479 - val_accuracy: 0.8800\n",
            "Epoch 236/500\n",
            "225/225 [==============================] - 0s 80us/sample - loss: 0.3107 - accuracy: 0.9022 - val_loss: 0.3459 - val_accuracy: 0.8800\n",
            "Epoch 237/500\n",
            "225/225 [==============================] - 0s 92us/sample - loss: 0.3093 - accuracy: 0.9111 - val_loss: 0.3450 - val_accuracy: 0.8800\n",
            "Epoch 238/500\n",
            "225/225 [==============================] - 0s 108us/sample - loss: 0.3088 - accuracy: 0.9067 - val_loss: 0.3447 - val_accuracy: 0.8800\n",
            "Epoch 239/500\n",
            "225/225 [==============================] - 0s 91us/sample - loss: 0.3070 - accuracy: 0.9067 - val_loss: 0.3448 - val_accuracy: 0.8800\n",
            "Epoch 240/500\n",
            "225/225 [==============================] - 0s 88us/sample - loss: 0.3060 - accuracy: 0.9022 - val_loss: 0.3497 - val_accuracy: 0.8667\n",
            "Epoch 241/500\n",
            "225/225 [==============================] - 0s 78us/sample - loss: 0.3050 - accuracy: 0.8978 - val_loss: 0.3547 - val_accuracy: 0.8533\n",
            "Epoch 242/500\n",
            "225/225 [==============================] - 0s 89us/sample - loss: 0.3031 - accuracy: 0.9022 - val_loss: 0.3502 - val_accuracy: 0.8667\n",
            "Epoch 243/500\n",
            "225/225 [==============================] - 0s 85us/sample - loss: 0.3026 - accuracy: 0.9022 - val_loss: 0.3503 - val_accuracy: 0.8533\n",
            "Epoch 244/500\n",
            "225/225 [==============================] - 0s 85us/sample - loss: 0.3015 - accuracy: 0.9022 - val_loss: 0.3468 - val_accuracy: 0.8667\n",
            "Epoch 245/500\n",
            "225/225 [==============================] - 0s 84us/sample - loss: 0.2997 - accuracy: 0.9022 - val_loss: 0.3399 - val_accuracy: 0.8800\n",
            "Epoch 246/500\n",
            "225/225 [==============================] - 0s 81us/sample - loss: 0.2977 - accuracy: 0.9022 - val_loss: 0.3349 - val_accuracy: 0.8800\n",
            "Epoch 247/500\n",
            "225/225 [==============================] - 0s 98us/sample - loss: 0.2959 - accuracy: 0.9022 - val_loss: 0.3322 - val_accuracy: 0.8800\n",
            "Epoch 248/500\n",
            "225/225 [==============================] - 0s 97us/sample - loss: 0.2947 - accuracy: 0.9111 - val_loss: 0.3306 - val_accuracy: 0.8800\n",
            "Epoch 249/500\n",
            "225/225 [==============================] - 0s 85us/sample - loss: 0.2935 - accuracy: 0.9156 - val_loss: 0.3293 - val_accuracy: 0.8800\n",
            "Epoch 250/500\n",
            "225/225 [==============================] - 0s 129us/sample - loss: 0.2923 - accuracy: 0.9156 - val_loss: 0.3278 - val_accuracy: 0.8800\n",
            "Epoch 251/500\n",
            "225/225 [==============================] - 0s 92us/sample - loss: 0.2911 - accuracy: 0.9156 - val_loss: 0.3247 - val_accuracy: 0.8800\n",
            "Epoch 252/500\n",
            "225/225 [==============================] - 0s 90us/sample - loss: 0.2903 - accuracy: 0.9156 - val_loss: 0.3234 - val_accuracy: 0.8800\n",
            "Epoch 253/500\n",
            "225/225 [==============================] - 0s 95us/sample - loss: 0.2890 - accuracy: 0.9244 - val_loss: 0.3212 - val_accuracy: 0.8800\n",
            "Epoch 254/500\n",
            "225/225 [==============================] - 0s 101us/sample - loss: 0.2876 - accuracy: 0.9200 - val_loss: 0.3195 - val_accuracy: 0.8800\n",
            "Epoch 255/500\n",
            "225/225 [==============================] - 0s 95us/sample - loss: 0.2863 - accuracy: 0.9156 - val_loss: 0.3200 - val_accuracy: 0.8800\n",
            "Epoch 256/500\n",
            "225/225 [==============================] - 0s 94us/sample - loss: 0.2855 - accuracy: 0.9156 - val_loss: 0.3199 - val_accuracy: 0.8800\n",
            "Epoch 257/500\n",
            "225/225 [==============================] - 0s 84us/sample - loss: 0.2846 - accuracy: 0.9156 - val_loss: 0.3180 - val_accuracy: 0.8800\n",
            "Epoch 258/500\n",
            "225/225 [==============================] - 0s 89us/sample - loss: 0.2842 - accuracy: 0.9200 - val_loss: 0.3100 - val_accuracy: 0.8800\n",
            "Epoch 259/500\n",
            "225/225 [==============================] - 0s 108us/sample - loss: 0.2829 - accuracy: 0.9200 - val_loss: 0.3073 - val_accuracy: 0.8800\n",
            "Epoch 260/500\n",
            "225/225 [==============================] - 0s 80us/sample - loss: 0.2821 - accuracy: 0.9244 - val_loss: 0.3099 - val_accuracy: 0.8800\n",
            "Epoch 261/500\n",
            "225/225 [==============================] - 0s 100us/sample - loss: 0.2800 - accuracy: 0.9289 - val_loss: 0.3140 - val_accuracy: 0.8800\n",
            "Epoch 262/500\n",
            "225/225 [==============================] - 0s 87us/sample - loss: 0.2790 - accuracy: 0.9244 - val_loss: 0.3141 - val_accuracy: 0.8800\n",
            "Epoch 263/500\n",
            "225/225 [==============================] - 0s 95us/sample - loss: 0.2781 - accuracy: 0.9244 - val_loss: 0.3089 - val_accuracy: 0.8800\n",
            "Epoch 264/500\n",
            "225/225 [==============================] - 0s 89us/sample - loss: 0.2768 - accuracy: 0.9244 - val_loss: 0.3080 - val_accuracy: 0.8933\n",
            "Epoch 265/500\n",
            "225/225 [==============================] - 0s 94us/sample - loss: 0.2755 - accuracy: 0.9289 - val_loss: 0.3066 - val_accuracy: 0.8800\n",
            "Epoch 266/500\n",
            "225/225 [==============================] - 0s 125us/sample - loss: 0.2739 - accuracy: 0.9289 - val_loss: 0.3049 - val_accuracy: 0.8800\n",
            "Epoch 267/500\n",
            "225/225 [==============================] - 0s 91us/sample - loss: 0.2728 - accuracy: 0.9289 - val_loss: 0.3035 - val_accuracy: 0.8800\n",
            "Epoch 268/500\n",
            "225/225 [==============================] - 0s 97us/sample - loss: 0.2719 - accuracy: 0.9244 - val_loss: 0.3019 - val_accuracy: 0.8933\n",
            "Epoch 269/500\n",
            "225/225 [==============================] - 0s 84us/sample - loss: 0.2713 - accuracy: 0.9289 - val_loss: 0.2943 - val_accuracy: 0.8933\n",
            "Epoch 270/500\n",
            "225/225 [==============================] - 0s 96us/sample - loss: 0.2709 - accuracy: 0.9200 - val_loss: 0.2919 - val_accuracy: 0.8933\n",
            "Epoch 271/500\n",
            "225/225 [==============================] - 0s 95us/sample - loss: 0.2693 - accuracy: 0.9289 - val_loss: 0.2947 - val_accuracy: 0.8933\n",
            "Epoch 272/500\n",
            "225/225 [==============================] - 0s 100us/sample - loss: 0.2674 - accuracy: 0.9289 - val_loss: 0.2966 - val_accuracy: 0.8800\n",
            "Epoch 273/500\n",
            "225/225 [==============================] - 0s 100us/sample - loss: 0.2661 - accuracy: 0.9289 - val_loss: 0.2967 - val_accuracy: 0.8800\n",
            "Epoch 274/500\n",
            "225/225 [==============================] - 0s 99us/sample - loss: 0.2649 - accuracy: 0.9244 - val_loss: 0.2954 - val_accuracy: 0.8933\n",
            "Epoch 275/500\n",
            "225/225 [==============================] - 0s 95us/sample - loss: 0.2638 - accuracy: 0.9244 - val_loss: 0.2948 - val_accuracy: 0.8933\n",
            "Epoch 276/500\n",
            "225/225 [==============================] - 0s 118us/sample - loss: 0.2625 - accuracy: 0.9289 - val_loss: 0.2937 - val_accuracy: 0.8933\n",
            "Epoch 277/500\n",
            "225/225 [==============================] - 0s 115us/sample - loss: 0.2616 - accuracy: 0.9289 - val_loss: 0.2938 - val_accuracy: 0.8933\n",
            "Epoch 278/500\n",
            "225/225 [==============================] - 0s 104us/sample - loss: 0.2606 - accuracy: 0.9289 - val_loss: 0.2949 - val_accuracy: 0.8933\n",
            "Epoch 279/500\n",
            "225/225 [==============================] - 0s 94us/sample - loss: 0.2597 - accuracy: 0.9289 - val_loss: 0.3006 - val_accuracy: 0.8800\n",
            "Epoch 280/500\n",
            "225/225 [==============================] - 0s 95us/sample - loss: 0.2598 - accuracy: 0.9289 - val_loss: 0.3001 - val_accuracy: 0.8800\n",
            "Epoch 281/500\n",
            "225/225 [==============================] - 0s 106us/sample - loss: 0.2586 - accuracy: 0.9244 - val_loss: 0.2973 - val_accuracy: 0.8800\n",
            "Epoch 282/500\n",
            "225/225 [==============================] - 0s 94us/sample - loss: 0.2574 - accuracy: 0.9289 - val_loss: 0.2917 - val_accuracy: 0.8800\n",
            "Epoch 283/500\n",
            "225/225 [==============================] - 0s 96us/sample - loss: 0.2557 - accuracy: 0.9289 - val_loss: 0.2870 - val_accuracy: 0.9067\n",
            "Epoch 284/500\n",
            "225/225 [==============================] - 0s 97us/sample - loss: 0.2551 - accuracy: 0.9244 - val_loss: 0.2838 - val_accuracy: 0.9333\n",
            "Epoch 285/500\n",
            "225/225 [==============================] - 0s 82us/sample - loss: 0.2553 - accuracy: 0.9244 - val_loss: 0.2814 - val_accuracy: 0.9333\n",
            "Epoch 286/500\n",
            "225/225 [==============================] - 0s 96us/sample - loss: 0.2544 - accuracy: 0.9289 - val_loss: 0.2802 - val_accuracy: 0.9333\n",
            "Epoch 287/500\n",
            "225/225 [==============================] - 0s 91us/sample - loss: 0.2526 - accuracy: 0.9244 - val_loss: 0.2805 - val_accuracy: 0.9333\n",
            "Epoch 288/500\n",
            "225/225 [==============================] - 0s 89us/sample - loss: 0.2505 - accuracy: 0.9422 - val_loss: 0.2808 - val_accuracy: 0.9067\n",
            "Epoch 289/500\n",
            "225/225 [==============================] - 0s 88us/sample - loss: 0.2496 - accuracy: 0.9378 - val_loss: 0.2813 - val_accuracy: 0.8933\n",
            "Epoch 290/500\n",
            "225/225 [==============================] - 0s 96us/sample - loss: 0.2485 - accuracy: 0.9378 - val_loss: 0.2800 - val_accuracy: 0.8933\n",
            "Epoch 291/500\n",
            "225/225 [==============================] - 0s 93us/sample - loss: 0.2477 - accuracy: 0.9333 - val_loss: 0.2814 - val_accuracy: 0.8933\n",
            "Epoch 292/500\n",
            "225/225 [==============================] - 0s 93us/sample - loss: 0.2466 - accuracy: 0.9333 - val_loss: 0.2752 - val_accuracy: 0.8933\n",
            "Epoch 293/500\n",
            "225/225 [==============================] - 0s 90us/sample - loss: 0.2458 - accuracy: 0.9333 - val_loss: 0.2726 - val_accuracy: 0.8933\n",
            "Epoch 294/500\n",
            "225/225 [==============================] - 0s 91us/sample - loss: 0.2449 - accuracy: 0.9333 - val_loss: 0.2697 - val_accuracy: 0.8933\n",
            "Epoch 295/500\n",
            "225/225 [==============================] - 0s 95us/sample - loss: 0.2452 - accuracy: 0.9333 - val_loss: 0.2638 - val_accuracy: 0.9067\n",
            "Epoch 296/500\n",
            "225/225 [==============================] - 0s 95us/sample - loss: 0.2437 - accuracy: 0.9333 - val_loss: 0.2615 - val_accuracy: 0.9067\n",
            "Epoch 297/500\n",
            "225/225 [==============================] - 0s 87us/sample - loss: 0.2432 - accuracy: 0.9333 - val_loss: 0.2599 - val_accuracy: 0.9067\n",
            "Epoch 298/500\n",
            "225/225 [==============================] - 0s 88us/sample - loss: 0.2421 - accuracy: 0.9378 - val_loss: 0.2610 - val_accuracy: 0.9200\n",
            "Epoch 299/500\n",
            "225/225 [==============================] - 0s 83us/sample - loss: 0.2399 - accuracy: 0.9422 - val_loss: 0.2610 - val_accuracy: 0.9067\n",
            "Epoch 300/500\n",
            "225/225 [==============================] - 0s 94us/sample - loss: 0.2386 - accuracy: 0.9378 - val_loss: 0.2612 - val_accuracy: 0.9067\n",
            "Epoch 301/500\n",
            "225/225 [==============================] - 0s 94us/sample - loss: 0.2376 - accuracy: 0.9378 - val_loss: 0.2619 - val_accuracy: 0.9067\n",
            "Epoch 302/500\n",
            "225/225 [==============================] - 0s 92us/sample - loss: 0.2367 - accuracy: 0.9422 - val_loss: 0.2637 - val_accuracy: 0.9067\n",
            "Epoch 303/500\n",
            "225/225 [==============================] - 0s 98us/sample - loss: 0.2363 - accuracy: 0.9378 - val_loss: 0.2629 - val_accuracy: 0.9067\n",
            "Epoch 304/500\n",
            "225/225 [==============================] - 0s 90us/sample - loss: 0.2354 - accuracy: 0.9333 - val_loss: 0.2624 - val_accuracy: 0.9067\n",
            "Epoch 305/500\n",
            "225/225 [==============================] - 0s 104us/sample - loss: 0.2341 - accuracy: 0.9378 - val_loss: 0.2619 - val_accuracy: 0.9067\n",
            "Epoch 306/500\n",
            "225/225 [==============================] - 0s 99us/sample - loss: 0.2333 - accuracy: 0.9333 - val_loss: 0.2641 - val_accuracy: 0.9067\n",
            "Epoch 307/500\n",
            "225/225 [==============================] - 0s 104us/sample - loss: 0.2329 - accuracy: 0.9333 - val_loss: 0.2594 - val_accuracy: 0.9333\n",
            "Epoch 308/500\n",
            "225/225 [==============================] - 0s 92us/sample - loss: 0.2324 - accuracy: 0.9378 - val_loss: 0.2591 - val_accuracy: 0.9200\n",
            "Epoch 309/500\n",
            "225/225 [==============================] - 0s 86us/sample - loss: 0.2314 - accuracy: 0.9422 - val_loss: 0.2572 - val_accuracy: 0.9200\n",
            "Epoch 310/500\n",
            "225/225 [==============================] - 0s 90us/sample - loss: 0.2307 - accuracy: 0.9378 - val_loss: 0.2539 - val_accuracy: 0.9200\n",
            "Epoch 311/500\n",
            "225/225 [==============================] - 0s 83us/sample - loss: 0.2293 - accuracy: 0.9333 - val_loss: 0.2515 - val_accuracy: 0.9467\n",
            "Epoch 312/500\n",
            "225/225 [==============================] - 0s 85us/sample - loss: 0.2287 - accuracy: 0.9378 - val_loss: 0.2485 - val_accuracy: 0.9467\n",
            "Epoch 313/500\n",
            "225/225 [==============================] - 0s 94us/sample - loss: 0.2280 - accuracy: 0.9422 - val_loss: 0.2444 - val_accuracy: 0.9467\n",
            "Epoch 314/500\n",
            "225/225 [==============================] - 0s 86us/sample - loss: 0.2281 - accuracy: 0.9422 - val_loss: 0.2432 - val_accuracy: 0.9467\n",
            "Epoch 315/500\n",
            "225/225 [==============================] - 0s 106us/sample - loss: 0.2274 - accuracy: 0.9422 - val_loss: 0.2425 - val_accuracy: 0.9467\n",
            "Epoch 316/500\n",
            "225/225 [==============================] - 0s 85us/sample - loss: 0.2259 - accuracy: 0.9422 - val_loss: 0.2418 - val_accuracy: 0.9733\n",
            "Epoch 317/500\n",
            "225/225 [==============================] - 0s 95us/sample - loss: 0.2245 - accuracy: 0.9422 - val_loss: 0.2425 - val_accuracy: 0.9600\n",
            "Epoch 318/500\n",
            "225/225 [==============================] - 0s 88us/sample - loss: 0.2240 - accuracy: 0.9422 - val_loss: 0.2456 - val_accuracy: 0.9467\n",
            "Epoch 319/500\n",
            "225/225 [==============================] - 0s 99us/sample - loss: 0.2214 - accuracy: 0.9467 - val_loss: 0.2530 - val_accuracy: 0.9067\n",
            "Epoch 320/500\n",
            "225/225 [==============================] - 0s 86us/sample - loss: 0.2201 - accuracy: 0.9378 - val_loss: 0.2560 - val_accuracy: 0.9067\n",
            "Epoch 321/500\n",
            "225/225 [==============================] - 0s 93us/sample - loss: 0.2199 - accuracy: 0.9378 - val_loss: 0.2539 - val_accuracy: 0.9067\n",
            "Epoch 322/500\n",
            "225/225 [==============================] - 0s 85us/sample - loss: 0.2189 - accuracy: 0.9422 - val_loss: 0.2496 - val_accuracy: 0.9333\n",
            "Epoch 323/500\n",
            "225/225 [==============================] - 0s 93us/sample - loss: 0.2190 - accuracy: 0.9467 - val_loss: 0.2457 - val_accuracy: 0.9600\n",
            "Epoch 324/500\n",
            "225/225 [==============================] - 0s 94us/sample - loss: 0.2172 - accuracy: 0.9467 - val_loss: 0.2386 - val_accuracy: 0.9333\n",
            "Epoch 325/500\n",
            "225/225 [==============================] - 0s 93us/sample - loss: 0.2162 - accuracy: 0.9378 - val_loss: 0.2396 - val_accuracy: 0.9333\n",
            "Epoch 326/500\n",
            "225/225 [==============================] - 0s 94us/sample - loss: 0.2151 - accuracy: 0.9333 - val_loss: 0.2397 - val_accuracy: 0.9333\n",
            "Epoch 327/500\n",
            "225/225 [==============================] - 0s 89us/sample - loss: 0.2146 - accuracy: 0.9333 - val_loss: 0.2384 - val_accuracy: 0.9333\n",
            "Epoch 328/500\n",
            "225/225 [==============================] - 0s 103us/sample - loss: 0.2135 - accuracy: 0.9422 - val_loss: 0.2370 - val_accuracy: 0.9600\n",
            "Epoch 329/500\n",
            "225/225 [==============================] - 0s 77us/sample - loss: 0.2142 - accuracy: 0.9422 - val_loss: 0.2359 - val_accuracy: 0.9600\n",
            "Epoch 330/500\n",
            "225/225 [==============================] - 0s 89us/sample - loss: 0.2135 - accuracy: 0.9467 - val_loss: 0.2338 - val_accuracy: 0.9600\n",
            "Epoch 331/500\n",
            "225/225 [==============================] - 0s 83us/sample - loss: 0.2121 - accuracy: 0.9422 - val_loss: 0.2325 - val_accuracy: 0.9600\n",
            "Epoch 332/500\n",
            "225/225 [==============================] - 0s 90us/sample - loss: 0.2115 - accuracy: 0.9422 - val_loss: 0.2317 - val_accuracy: 0.9600\n",
            "Epoch 333/500\n",
            "225/225 [==============================] - 0s 91us/sample - loss: 0.2104 - accuracy: 0.9467 - val_loss: 0.2359 - val_accuracy: 0.9333\n",
            "Epoch 334/500\n",
            "225/225 [==============================] - 0s 92us/sample - loss: 0.2092 - accuracy: 0.9467 - val_loss: 0.2377 - val_accuracy: 0.9200\n",
            "Epoch 335/500\n",
            "225/225 [==============================] - 0s 89us/sample - loss: 0.2083 - accuracy: 0.9378 - val_loss: 0.2366 - val_accuracy: 0.9067\n",
            "Epoch 336/500\n",
            "225/225 [==============================] - 0s 93us/sample - loss: 0.2068 - accuracy: 0.9467 - val_loss: 0.2317 - val_accuracy: 0.9333\n",
            "Epoch 337/500\n",
            "225/225 [==============================] - 0s 108us/sample - loss: 0.2063 - accuracy: 0.9467 - val_loss: 0.2304 - val_accuracy: 0.9333\n",
            "Epoch 338/500\n",
            "225/225 [==============================] - 0s 81us/sample - loss: 0.2058 - accuracy: 0.9511 - val_loss: 0.2317 - val_accuracy: 0.9333\n",
            "Epoch 339/500\n",
            "225/225 [==============================] - 0s 98us/sample - loss: 0.2051 - accuracy: 0.9467 - val_loss: 0.2319 - val_accuracy: 0.9333\n",
            "Epoch 340/500\n",
            "225/225 [==============================] - 0s 96us/sample - loss: 0.2041 - accuracy: 0.9467 - val_loss: 0.2307 - val_accuracy: 0.9333\n",
            "Epoch 341/500\n",
            "225/225 [==============================] - 0s 92us/sample - loss: 0.2030 - accuracy: 0.9422 - val_loss: 0.2300 - val_accuracy: 0.9333\n",
            "Epoch 342/500\n",
            "225/225 [==============================] - 0s 75us/sample - loss: 0.2021 - accuracy: 0.9467 - val_loss: 0.2289 - val_accuracy: 0.9200\n",
            "Epoch 343/500\n",
            "225/225 [==============================] - 0s 85us/sample - loss: 0.2013 - accuracy: 0.9467 - val_loss: 0.2258 - val_accuracy: 0.9467\n",
            "Epoch 344/500\n",
            "225/225 [==============================] - 0s 93us/sample - loss: 0.2012 - accuracy: 0.9600 - val_loss: 0.2233 - val_accuracy: 0.9600\n",
            "Epoch 345/500\n",
            "225/225 [==============================] - 0s 87us/sample - loss: 0.2006 - accuracy: 0.9600 - val_loss: 0.2207 - val_accuracy: 0.9600\n",
            "Epoch 346/500\n",
            "225/225 [==============================] - 0s 89us/sample - loss: 0.1998 - accuracy: 0.9556 - val_loss: 0.2199 - val_accuracy: 0.9600\n",
            "Epoch 347/500\n",
            "225/225 [==============================] - 0s 91us/sample - loss: 0.1994 - accuracy: 0.9556 - val_loss: 0.2186 - val_accuracy: 0.9600\n",
            "Epoch 348/500\n",
            "225/225 [==============================] - 0s 120us/sample - loss: 0.1987 - accuracy: 0.9556 - val_loss: 0.2182 - val_accuracy: 0.9600\n",
            "Epoch 349/500\n",
            "225/225 [==============================] - 0s 114us/sample - loss: 0.1980 - accuracy: 0.9600 - val_loss: 0.2185 - val_accuracy: 0.9600\n",
            "Epoch 350/500\n",
            "225/225 [==============================] - 0s 102us/sample - loss: 0.1965 - accuracy: 0.9600 - val_loss: 0.2179 - val_accuracy: 0.9467\n",
            "Epoch 351/500\n",
            "225/225 [==============================] - 0s 95us/sample - loss: 0.1956 - accuracy: 0.9511 - val_loss: 0.2182 - val_accuracy: 0.9333\n",
            "Epoch 352/500\n",
            "225/225 [==============================] - 0s 100us/sample - loss: 0.1947 - accuracy: 0.9467 - val_loss: 0.2198 - val_accuracy: 0.9333\n",
            "Epoch 353/500\n",
            "225/225 [==============================] - 0s 96us/sample - loss: 0.1949 - accuracy: 0.9467 - val_loss: 0.2200 - val_accuracy: 0.9333\n",
            "Epoch 354/500\n",
            "225/225 [==============================] - 0s 82us/sample - loss: 0.1944 - accuracy: 0.9467 - val_loss: 0.2198 - val_accuracy: 0.9333\n",
            "Epoch 355/500\n",
            "225/225 [==============================] - 0s 109us/sample - loss: 0.1934 - accuracy: 0.9467 - val_loss: 0.2185 - val_accuracy: 0.9333\n",
            "Epoch 356/500\n",
            "225/225 [==============================] - 0s 102us/sample - loss: 0.1926 - accuracy: 0.9467 - val_loss: 0.2165 - val_accuracy: 0.9333\n",
            "Epoch 357/500\n",
            "225/225 [==============================] - 0s 82us/sample - loss: 0.1918 - accuracy: 0.9467 - val_loss: 0.2179 - val_accuracy: 0.9200\n",
            "Epoch 358/500\n",
            "225/225 [==============================] - 0s 97us/sample - loss: 0.1906 - accuracy: 0.9467 - val_loss: 0.2158 - val_accuracy: 0.9333\n",
            "Epoch 359/500\n",
            "225/225 [==============================] - 0s 95us/sample - loss: 0.1897 - accuracy: 0.9467 - val_loss: 0.2147 - val_accuracy: 0.9333\n",
            "Epoch 360/500\n",
            "225/225 [==============================] - 0s 103us/sample - loss: 0.1894 - accuracy: 0.9467 - val_loss: 0.2150 - val_accuracy: 0.9333\n",
            "Epoch 361/500\n",
            "225/225 [==============================] - 0s 87us/sample - loss: 0.1888 - accuracy: 0.9467 - val_loss: 0.2136 - val_accuracy: 0.9333\n",
            "Epoch 362/500\n",
            "225/225 [==============================] - 0s 103us/sample - loss: 0.1881 - accuracy: 0.9467 - val_loss: 0.2118 - val_accuracy: 0.9333\n",
            "Epoch 363/500\n",
            "225/225 [==============================] - 0s 102us/sample - loss: 0.1876 - accuracy: 0.9511 - val_loss: 0.2066 - val_accuracy: 0.9333\n",
            "Epoch 364/500\n",
            "225/225 [==============================] - 0s 97us/sample - loss: 0.1881 - accuracy: 0.9467 - val_loss: 0.2060 - val_accuracy: 0.9200\n",
            "Epoch 365/500\n",
            "225/225 [==============================] - 0s 96us/sample - loss: 0.1877 - accuracy: 0.9467 - val_loss: 0.2063 - val_accuracy: 0.9200\n",
            "Epoch 366/500\n",
            "225/225 [==============================] - 0s 92us/sample - loss: 0.1865 - accuracy: 0.9467 - val_loss: 0.2072 - val_accuracy: 0.9333\n",
            "Epoch 367/500\n",
            "225/225 [==============================] - 0s 99us/sample - loss: 0.1852 - accuracy: 0.9511 - val_loss: 0.2112 - val_accuracy: 0.9333\n",
            "Epoch 368/500\n",
            "225/225 [==============================] - 0s 106us/sample - loss: 0.1846 - accuracy: 0.9511 - val_loss: 0.2128 - val_accuracy: 0.9333\n",
            "Epoch 369/500\n",
            "225/225 [==============================] - 0s 113us/sample - loss: 0.1839 - accuracy: 0.9467 - val_loss: 0.2121 - val_accuracy: 0.9333\n",
            "Epoch 370/500\n",
            "225/225 [==============================] - 0s 76us/sample - loss: 0.1830 - accuracy: 0.9467 - val_loss: 0.2073 - val_accuracy: 0.9467\n",
            "Epoch 371/500\n",
            "225/225 [==============================] - 0s 78us/sample - loss: 0.1819 - accuracy: 0.9511 - val_loss: 0.2040 - val_accuracy: 0.9600\n",
            "Epoch 372/500\n",
            "225/225 [==============================] - 0s 110us/sample - loss: 0.1813 - accuracy: 0.9556 - val_loss: 0.2005 - val_accuracy: 0.9600\n",
            "Epoch 373/500\n",
            "225/225 [==============================] - 0s 98us/sample - loss: 0.1817 - accuracy: 0.9600 - val_loss: 0.1969 - val_accuracy: 0.9467\n",
            "Epoch 374/500\n",
            "225/225 [==============================] - 0s 143us/sample - loss: 0.1816 - accuracy: 0.9511 - val_loss: 0.1977 - val_accuracy: 0.9333\n",
            "Epoch 375/500\n",
            "225/225 [==============================] - 0s 118us/sample - loss: 0.1807 - accuracy: 0.9511 - val_loss: 0.1973 - val_accuracy: 0.9333\n",
            "Epoch 376/500\n",
            "225/225 [==============================] - 0s 139us/sample - loss: 0.1796 - accuracy: 0.9600 - val_loss: 0.1932 - val_accuracy: 0.9733\n",
            "Epoch 377/500\n",
            "225/225 [==============================] - 0s 93us/sample - loss: 0.1789 - accuracy: 0.9467 - val_loss: 0.1927 - val_accuracy: 0.9600\n",
            "Epoch 378/500\n",
            "225/225 [==============================] - 0s 107us/sample - loss: 0.1786 - accuracy: 0.9467 - val_loss: 0.1924 - val_accuracy: 0.9600\n",
            "Epoch 379/500\n",
            "225/225 [==============================] - 0s 89us/sample - loss: 0.1784 - accuracy: 0.9511 - val_loss: 0.1939 - val_accuracy: 0.9600\n",
            "Epoch 380/500\n",
            "225/225 [==============================] - 0s 101us/sample - loss: 0.1776 - accuracy: 0.9556 - val_loss: 0.1933 - val_accuracy: 0.9733\n",
            "Epoch 381/500\n",
            "225/225 [==============================] - 0s 94us/sample - loss: 0.1767 - accuracy: 0.9467 - val_loss: 0.1894 - val_accuracy: 0.9733\n",
            "Epoch 382/500\n",
            "225/225 [==============================] - 0s 93us/sample - loss: 0.1763 - accuracy: 0.9644 - val_loss: 0.1887 - val_accuracy: 0.9600\n",
            "Epoch 383/500\n",
            "225/225 [==============================] - 0s 91us/sample - loss: 0.1752 - accuracy: 0.9600 - val_loss: 0.1913 - val_accuracy: 0.9467\n",
            "Epoch 384/500\n",
            "225/225 [==============================] - 0s 95us/sample - loss: 0.1735 - accuracy: 0.9733 - val_loss: 0.1959 - val_accuracy: 0.9467\n",
            "Epoch 385/500\n",
            "225/225 [==============================] - 0s 124us/sample - loss: 0.1731 - accuracy: 0.9689 - val_loss: 0.1976 - val_accuracy: 0.9467\n",
            "Epoch 386/500\n",
            "225/225 [==============================] - 0s 105us/sample - loss: 0.1723 - accuracy: 0.9644 - val_loss: 0.1964 - val_accuracy: 0.9467\n",
            "Epoch 387/500\n",
            "225/225 [==============================] - 0s 95us/sample - loss: 0.1718 - accuracy: 0.9644 - val_loss: 0.1941 - val_accuracy: 0.9467\n",
            "Epoch 388/500\n",
            "225/225 [==============================] - 0s 96us/sample - loss: 0.1713 - accuracy: 0.9556 - val_loss: 0.1918 - val_accuracy: 0.9600\n",
            "Epoch 389/500\n",
            "225/225 [==============================] - 0s 100us/sample - loss: 0.1703 - accuracy: 0.9511 - val_loss: 0.1914 - val_accuracy: 0.9467\n",
            "Epoch 390/500\n",
            "225/225 [==============================] - 0s 86us/sample - loss: 0.1697 - accuracy: 0.9511 - val_loss: 0.1912 - val_accuracy: 0.9467\n",
            "Epoch 391/500\n",
            "225/225 [==============================] - 0s 102us/sample - loss: 0.1692 - accuracy: 0.9511 - val_loss: 0.1900 - val_accuracy: 0.9467\n",
            "Epoch 392/500\n",
            "225/225 [==============================] - 0s 97us/sample - loss: 0.1685 - accuracy: 0.9511 - val_loss: 0.1892 - val_accuracy: 0.9467\n",
            "Epoch 393/500\n",
            "225/225 [==============================] - 0s 113us/sample - loss: 0.1681 - accuracy: 0.9511 - val_loss: 0.1893 - val_accuracy: 0.9467\n",
            "Epoch 394/500\n",
            "225/225 [==============================] - 0s 107us/sample - loss: 0.1676 - accuracy: 0.9511 - val_loss: 0.1961 - val_accuracy: 0.9467\n",
            "Epoch 395/500\n",
            "225/225 [==============================] - 0s 96us/sample - loss: 0.1691 - accuracy: 0.9422 - val_loss: 0.1986 - val_accuracy: 0.9333\n",
            "Epoch 396/500\n",
            "225/225 [==============================] - 0s 103us/sample - loss: 0.1678 - accuracy: 0.9467 - val_loss: 0.1929 - val_accuracy: 0.9467\n",
            "Epoch 397/500\n",
            "225/225 [==============================] - 0s 86us/sample - loss: 0.1670 - accuracy: 0.9511 - val_loss: 0.1876 - val_accuracy: 0.9467\n",
            "Epoch 398/500\n",
            "225/225 [==============================] - 0s 95us/sample - loss: 0.1654 - accuracy: 0.9511 - val_loss: 0.1838 - val_accuracy: 0.9600\n",
            "Epoch 399/500\n",
            "225/225 [==============================] - 0s 105us/sample - loss: 0.1649 - accuracy: 0.9556 - val_loss: 0.1819 - val_accuracy: 0.9600\n",
            "Epoch 400/500\n",
            "225/225 [==============================] - 0s 99us/sample - loss: 0.1644 - accuracy: 0.9689 - val_loss: 0.1822 - val_accuracy: 0.9600\n",
            "Epoch 401/500\n",
            "225/225 [==============================] - 0s 97us/sample - loss: 0.1635 - accuracy: 0.9689 - val_loss: 0.1827 - val_accuracy: 0.9600\n",
            "Epoch 402/500\n",
            "225/225 [==============================] - 0s 109us/sample - loss: 0.1629 - accuracy: 0.9689 - val_loss: 0.1834 - val_accuracy: 0.9467\n",
            "Epoch 403/500\n",
            "225/225 [==============================] - 0s 108us/sample - loss: 0.1632 - accuracy: 0.9644 - val_loss: 0.1898 - val_accuracy: 0.9467\n",
            "Epoch 404/500\n",
            "225/225 [==============================] - 0s 100us/sample - loss: 0.1631 - accuracy: 0.9511 - val_loss: 0.1886 - val_accuracy: 0.9467\n",
            "Epoch 405/500\n",
            "225/225 [==============================] - 0s 108us/sample - loss: 0.1626 - accuracy: 0.9511 - val_loss: 0.1851 - val_accuracy: 0.9600\n",
            "Epoch 406/500\n",
            "225/225 [==============================] - 0s 92us/sample - loss: 0.1618 - accuracy: 0.9511 - val_loss: 0.1837 - val_accuracy: 0.9600\n",
            "Epoch 407/500\n",
            "225/225 [==============================] - 0s 104us/sample - loss: 0.1613 - accuracy: 0.9511 - val_loss: 0.1833 - val_accuracy: 0.9600\n",
            "Epoch 408/500\n",
            "225/225 [==============================] - 0s 96us/sample - loss: 0.1606 - accuracy: 0.9556 - val_loss: 0.1813 - val_accuracy: 0.9600\n",
            "Epoch 409/500\n",
            "225/225 [==============================] - 0s 105us/sample - loss: 0.1597 - accuracy: 0.9556 - val_loss: 0.1792 - val_accuracy: 0.9600\n",
            "Epoch 410/500\n",
            "225/225 [==============================] - 0s 108us/sample - loss: 0.1589 - accuracy: 0.9511 - val_loss: 0.1776 - val_accuracy: 0.9600\n",
            "Epoch 411/500\n",
            "225/225 [==============================] - 0s 95us/sample - loss: 0.1583 - accuracy: 0.9600 - val_loss: 0.1764 - val_accuracy: 0.9600\n",
            "Epoch 412/500\n",
            "225/225 [==============================] - 0s 100us/sample - loss: 0.1578 - accuracy: 0.9600 - val_loss: 0.1759 - val_accuracy: 0.9600\n",
            "Epoch 413/500\n",
            "225/225 [==============================] - 0s 98us/sample - loss: 0.1572 - accuracy: 0.9644 - val_loss: 0.1757 - val_accuracy: 0.9600\n",
            "Epoch 414/500\n",
            "225/225 [==============================] - 0s 115us/sample - loss: 0.1567 - accuracy: 0.9644 - val_loss: 0.1753 - val_accuracy: 0.9600\n",
            "Epoch 415/500\n",
            "225/225 [==============================] - 0s 103us/sample - loss: 0.1568 - accuracy: 0.9600 - val_loss: 0.1744 - val_accuracy: 0.9733\n",
            "Epoch 416/500\n",
            "225/225 [==============================] - 0s 101us/sample - loss: 0.1564 - accuracy: 0.9600 - val_loss: 0.1734 - val_accuracy: 0.9733\n",
            "Epoch 417/500\n",
            "225/225 [==============================] - 0s 117us/sample - loss: 0.1553 - accuracy: 0.9600 - val_loss: 0.1733 - val_accuracy: 0.9733\n",
            "Epoch 418/500\n",
            "225/225 [==============================] - 0s 94us/sample - loss: 0.1554 - accuracy: 0.9644 - val_loss: 0.1749 - val_accuracy: 0.9600\n",
            "Epoch 419/500\n",
            "225/225 [==============================] - 0s 101us/sample - loss: 0.1551 - accuracy: 0.9689 - val_loss: 0.1742 - val_accuracy: 0.9733\n",
            "Epoch 420/500\n",
            "225/225 [==============================] - 0s 91us/sample - loss: 0.1545 - accuracy: 0.9689 - val_loss: 0.1737 - val_accuracy: 0.9733\n",
            "Epoch 421/500\n",
            "225/225 [==============================] - 0s 116us/sample - loss: 0.1539 - accuracy: 0.9689 - val_loss: 0.1727 - val_accuracy: 0.9733\n",
            "Epoch 422/500\n",
            "225/225 [==============================] - 0s 100us/sample - loss: 0.1533 - accuracy: 0.9733 - val_loss: 0.1702 - val_accuracy: 0.9733\n",
            "Epoch 423/500\n",
            "225/225 [==============================] - 0s 103us/sample - loss: 0.1520 - accuracy: 0.9733 - val_loss: 0.1692 - val_accuracy: 0.9733\n",
            "Epoch 424/500\n",
            "225/225 [==============================] - 0s 94us/sample - loss: 0.1519 - accuracy: 0.9733 - val_loss: 0.1687 - val_accuracy: 0.9733\n",
            "Epoch 425/500\n",
            "225/225 [==============================] - 0s 93us/sample - loss: 0.1514 - accuracy: 0.9689 - val_loss: 0.1716 - val_accuracy: 0.9600\n",
            "Epoch 426/500\n",
            "225/225 [==============================] - 0s 120us/sample - loss: 0.1511 - accuracy: 0.9644 - val_loss: 0.1734 - val_accuracy: 0.9600\n",
            "Epoch 427/500\n",
            "225/225 [==============================] - 0s 92us/sample - loss: 0.1509 - accuracy: 0.9644 - val_loss: 0.1735 - val_accuracy: 0.9600\n",
            "Epoch 428/500\n",
            "225/225 [==============================] - 0s 92us/sample - loss: 0.1505 - accuracy: 0.9644 - val_loss: 0.1729 - val_accuracy: 0.9600\n",
            "Epoch 429/500\n",
            "225/225 [==============================] - 0s 91us/sample - loss: 0.1499 - accuracy: 0.9644 - val_loss: 0.1695 - val_accuracy: 0.9600\n",
            "Epoch 430/500\n",
            "225/225 [==============================] - 0s 110us/sample - loss: 0.1492 - accuracy: 0.9644 - val_loss: 0.1677 - val_accuracy: 0.9600\n",
            "Epoch 431/500\n",
            "225/225 [==============================] - 0s 120us/sample - loss: 0.1487 - accuracy: 0.9689 - val_loss: 0.1670 - val_accuracy: 0.9600\n",
            "Epoch 432/500\n",
            "225/225 [==============================] - 0s 92us/sample - loss: 0.1482 - accuracy: 0.9689 - val_loss: 0.1667 - val_accuracy: 0.9600\n",
            "Epoch 433/500\n",
            "225/225 [==============================] - 0s 94us/sample - loss: 0.1478 - accuracy: 0.9733 - val_loss: 0.1669 - val_accuracy: 0.9600\n",
            "Epoch 434/500\n",
            "225/225 [==============================] - 0s 99us/sample - loss: 0.1473 - accuracy: 0.9733 - val_loss: 0.1694 - val_accuracy: 0.9467\n",
            "Epoch 435/500\n",
            "225/225 [==============================] - 0s 94us/sample - loss: 0.1470 - accuracy: 0.9600 - val_loss: 0.1693 - val_accuracy: 0.9467\n",
            "Epoch 436/500\n",
            "225/225 [==============================] - 0s 103us/sample - loss: 0.1467 - accuracy: 0.9689 - val_loss: 0.1678 - val_accuracy: 0.9467\n",
            "Epoch 437/500\n",
            "225/225 [==============================] - 0s 91us/sample - loss: 0.1463 - accuracy: 0.9644 - val_loss: 0.1692 - val_accuracy: 0.9467\n",
            "Epoch 438/500\n",
            "225/225 [==============================] - 0s 88us/sample - loss: 0.1467 - accuracy: 0.9689 - val_loss: 0.1726 - val_accuracy: 0.9467\n",
            "Epoch 439/500\n",
            "225/225 [==============================] - 0s 84us/sample - loss: 0.1473 - accuracy: 0.9689 - val_loss: 0.1710 - val_accuracy: 0.9467\n",
            "Epoch 440/500\n",
            "225/225 [==============================] - 0s 93us/sample - loss: 0.1461 - accuracy: 0.9600 - val_loss: 0.1669 - val_accuracy: 0.9600\n",
            "Epoch 441/500\n",
            "225/225 [==============================] - 0s 100us/sample - loss: 0.1447 - accuracy: 0.9556 - val_loss: 0.1642 - val_accuracy: 0.9600\n",
            "Epoch 442/500\n",
            "225/225 [==============================] - 0s 88us/sample - loss: 0.1442 - accuracy: 0.9600 - val_loss: 0.1637 - val_accuracy: 0.9600\n",
            "Epoch 443/500\n",
            "225/225 [==============================] - 0s 92us/sample - loss: 0.1436 - accuracy: 0.9644 - val_loss: 0.1623 - val_accuracy: 0.9600\n",
            "Epoch 444/500\n",
            "225/225 [==============================] - 0s 88us/sample - loss: 0.1432 - accuracy: 0.9644 - val_loss: 0.1600 - val_accuracy: 0.9733\n",
            "Epoch 445/500\n",
            "225/225 [==============================] - 0s 86us/sample - loss: 0.1424 - accuracy: 0.9733 - val_loss: 0.1593 - val_accuracy: 0.9600\n",
            "Epoch 446/500\n",
            "225/225 [==============================] - 0s 106us/sample - loss: 0.1419 - accuracy: 0.9689 - val_loss: 0.1628 - val_accuracy: 0.9600\n",
            "Epoch 447/500\n",
            "225/225 [==============================] - 0s 106us/sample - loss: 0.1419 - accuracy: 0.9689 - val_loss: 0.1629 - val_accuracy: 0.9600\n",
            "Epoch 448/500\n",
            "225/225 [==============================] - 0s 90us/sample - loss: 0.1415 - accuracy: 0.9733 - val_loss: 0.1606 - val_accuracy: 0.9600\n",
            "Epoch 449/500\n",
            "225/225 [==============================] - 0s 88us/sample - loss: 0.1414 - accuracy: 0.9733 - val_loss: 0.1572 - val_accuracy: 0.9600\n",
            "Epoch 450/500\n",
            "225/225 [==============================] - 0s 92us/sample - loss: 0.1406 - accuracy: 0.9778 - val_loss: 0.1628 - val_accuracy: 0.9467\n",
            "Epoch 451/500\n",
            "225/225 [==============================] - 0s 108us/sample - loss: 0.1397 - accuracy: 0.9689 - val_loss: 0.1639 - val_accuracy: 0.9467\n",
            "Epoch 452/500\n",
            "225/225 [==============================] - 0s 105us/sample - loss: 0.1398 - accuracy: 0.9689 - val_loss: 0.1632 - val_accuracy: 0.9467\n",
            "Epoch 453/500\n",
            "225/225 [==============================] - 0s 90us/sample - loss: 0.1393 - accuracy: 0.9689 - val_loss: 0.1617 - val_accuracy: 0.9600\n",
            "Epoch 454/500\n",
            "225/225 [==============================] - 0s 92us/sample - loss: 0.1385 - accuracy: 0.9689 - val_loss: 0.1596 - val_accuracy: 0.9600\n",
            "Epoch 455/500\n",
            "225/225 [==============================] - 0s 86us/sample - loss: 0.1378 - accuracy: 0.9689 - val_loss: 0.1572 - val_accuracy: 0.9600\n",
            "Epoch 456/500\n",
            "225/225 [==============================] - 0s 94us/sample - loss: 0.1372 - accuracy: 0.9733 - val_loss: 0.1555 - val_accuracy: 0.9600\n",
            "Epoch 457/500\n",
            "225/225 [==============================] - 0s 96us/sample - loss: 0.1370 - accuracy: 0.9689 - val_loss: 0.1535 - val_accuracy: 0.9733\n",
            "Epoch 458/500\n",
            "225/225 [==============================] - 0s 98us/sample - loss: 0.1364 - accuracy: 0.9733 - val_loss: 0.1538 - val_accuracy: 0.9733\n",
            "Epoch 459/500\n",
            "225/225 [==============================] - 0s 95us/sample - loss: 0.1360 - accuracy: 0.9733 - val_loss: 0.1545 - val_accuracy: 0.9733\n",
            "Epoch 460/500\n",
            "225/225 [==============================] - 0s 94us/sample - loss: 0.1357 - accuracy: 0.9733 - val_loss: 0.1539 - val_accuracy: 0.9600\n",
            "Epoch 461/500\n",
            "225/225 [==============================] - 0s 94us/sample - loss: 0.1351 - accuracy: 0.9733 - val_loss: 0.1533 - val_accuracy: 0.9600\n",
            "Epoch 462/500\n",
            "225/225 [==============================] - 0s 95us/sample - loss: 0.1346 - accuracy: 0.9778 - val_loss: 0.1512 - val_accuracy: 0.9733\n",
            "Epoch 463/500\n",
            "225/225 [==============================] - 0s 94us/sample - loss: 0.1341 - accuracy: 0.9778 - val_loss: 0.1490 - val_accuracy: 0.9733\n",
            "Epoch 464/500\n",
            "225/225 [==============================] - 0s 83us/sample - loss: 0.1336 - accuracy: 0.9778 - val_loss: 0.1488 - val_accuracy: 0.9733\n",
            "Epoch 465/500\n",
            "225/225 [==============================] - 0s 91us/sample - loss: 0.1333 - accuracy: 0.9778 - val_loss: 0.1486 - val_accuracy: 0.9733\n",
            "Epoch 466/500\n",
            "225/225 [==============================] - 0s 102us/sample - loss: 0.1328 - accuracy: 0.9778 - val_loss: 0.1471 - val_accuracy: 0.9867\n",
            "Epoch 467/500\n",
            "225/225 [==============================] - 0s 91us/sample - loss: 0.1340 - accuracy: 0.9778 - val_loss: 0.1465 - val_accuracy: 1.0000\n",
            "Epoch 468/500\n",
            "225/225 [==============================] - 0s 121us/sample - loss: 0.1345 - accuracy: 0.9733 - val_loss: 0.1452 - val_accuracy: 1.0000\n",
            "Epoch 469/500\n",
            "225/225 [==============================] - 0s 106us/sample - loss: 0.1339 - accuracy: 0.9778 - val_loss: 0.1445 - val_accuracy: 1.0000\n",
            "Epoch 470/500\n",
            "225/225 [==============================] - 0s 86us/sample - loss: 0.1319 - accuracy: 0.9778 - val_loss: 0.1451 - val_accuracy: 0.9867\n",
            "Epoch 471/500\n",
            "225/225 [==============================] - 0s 105us/sample - loss: 0.1308 - accuracy: 0.9822 - val_loss: 0.1452 - val_accuracy: 0.9733\n",
            "Epoch 472/500\n",
            "225/225 [==============================] - 0s 104us/sample - loss: 0.1305 - accuracy: 0.9778 - val_loss: 0.1450 - val_accuracy: 0.9733\n",
            "Epoch 473/500\n",
            "225/225 [==============================] - 0s 91us/sample - loss: 0.1302 - accuracy: 0.9822 - val_loss: 0.1453 - val_accuracy: 0.9733\n",
            "Epoch 474/500\n",
            "225/225 [==============================] - 0s 91us/sample - loss: 0.1299 - accuracy: 0.9778 - val_loss: 0.1477 - val_accuracy: 0.9600\n",
            "Epoch 475/500\n",
            "225/225 [==============================] - 0s 119us/sample - loss: 0.1300 - accuracy: 0.9778 - val_loss: 0.1497 - val_accuracy: 0.9600\n",
            "Epoch 476/500\n",
            "225/225 [==============================] - 0s 85us/sample - loss: 0.1294 - accuracy: 0.9778 - val_loss: 0.1486 - val_accuracy: 0.9600\n",
            "Epoch 477/500\n",
            "225/225 [==============================] - 0s 87us/sample - loss: 0.1290 - accuracy: 0.9778 - val_loss: 0.1479 - val_accuracy: 0.9600\n",
            "Epoch 478/500\n",
            "225/225 [==============================] - 0s 108us/sample - loss: 0.1284 - accuracy: 0.9778 - val_loss: 0.1476 - val_accuracy: 0.9600\n",
            "Epoch 479/500\n",
            "225/225 [==============================] - 0s 102us/sample - loss: 0.1282 - accuracy: 0.9733 - val_loss: 0.1471 - val_accuracy: 0.9467\n",
            "Epoch 480/500\n",
            "225/225 [==============================] - 0s 108us/sample - loss: 0.1276 - accuracy: 0.9733 - val_loss: 0.1464 - val_accuracy: 0.9467\n",
            "Epoch 481/500\n",
            "225/225 [==============================] - 0s 104us/sample - loss: 0.1272 - accuracy: 0.9778 - val_loss: 0.1452 - val_accuracy: 0.9600\n",
            "Epoch 482/500\n",
            "225/225 [==============================] - 0s 89us/sample - loss: 0.1267 - accuracy: 0.9822 - val_loss: 0.1437 - val_accuracy: 0.9733\n",
            "Epoch 483/500\n",
            "225/225 [==============================] - 0s 84us/sample - loss: 0.1262 - accuracy: 0.9822 - val_loss: 0.1425 - val_accuracy: 0.9733\n",
            "Epoch 484/500\n",
            "225/225 [==============================] - 0s 105us/sample - loss: 0.1258 - accuracy: 0.9822 - val_loss: 0.1415 - val_accuracy: 0.9733\n",
            "Epoch 485/500\n",
            "225/225 [==============================] - 0s 77us/sample - loss: 0.1254 - accuracy: 0.9822 - val_loss: 0.1403 - val_accuracy: 0.9733\n",
            "Epoch 486/500\n",
            "225/225 [==============================] - 0s 97us/sample - loss: 0.1251 - accuracy: 0.9822 - val_loss: 0.1394 - val_accuracy: 0.9733\n",
            "Epoch 487/500\n",
            "225/225 [==============================] - 0s 109us/sample - loss: 0.1248 - accuracy: 0.9822 - val_loss: 0.1390 - val_accuracy: 0.9733\n",
            "Epoch 488/500\n",
            "225/225 [==============================] - 0s 95us/sample - loss: 0.1244 - accuracy: 0.9822 - val_loss: 0.1383 - val_accuracy: 0.9733\n",
            "Epoch 489/500\n",
            "225/225 [==============================] - 0s 93us/sample - loss: 0.1240 - accuracy: 0.9822 - val_loss: 0.1379 - val_accuracy: 0.9733\n",
            "Epoch 490/500\n",
            "225/225 [==============================] - 0s 89us/sample - loss: 0.1237 - accuracy: 0.9822 - val_loss: 0.1379 - val_accuracy: 0.9733\n",
            "Epoch 491/500\n",
            "225/225 [==============================] - 0s 99us/sample - loss: 0.1234 - accuracy: 0.9822 - val_loss: 0.1393 - val_accuracy: 0.9600\n",
            "Epoch 492/500\n",
            "225/225 [==============================] - 0s 134us/sample - loss: 0.1231 - accuracy: 0.9822 - val_loss: 0.1395 - val_accuracy: 0.9600\n",
            "Epoch 493/500\n",
            "225/225 [==============================] - 0s 89us/sample - loss: 0.1227 - accuracy: 0.9822 - val_loss: 0.1390 - val_accuracy: 0.9600\n",
            "Epoch 494/500\n",
            "225/225 [==============================] - 0s 93us/sample - loss: 0.1223 - accuracy: 0.9822 - val_loss: 0.1384 - val_accuracy: 0.9600\n",
            "Epoch 495/500\n",
            "225/225 [==============================] - 0s 89us/sample - loss: 0.1220 - accuracy: 0.9822 - val_loss: 0.1377 - val_accuracy: 0.9600\n",
            "Epoch 496/500\n",
            "225/225 [==============================] - 0s 96us/sample - loss: 0.1216 - accuracy: 0.9822 - val_loss: 0.1371 - val_accuracy: 0.9600\n",
            "Epoch 497/500\n",
            "225/225 [==============================] - 0s 102us/sample - loss: 0.1213 - accuracy: 0.9822 - val_loss: 0.1371 - val_accuracy: 0.9600\n",
            "Epoch 498/500\n",
            "225/225 [==============================] - 0s 101us/sample - loss: 0.1211 - accuracy: 0.9822 - val_loss: 0.1368 - val_accuracy: 0.9600\n",
            "Epoch 499/500\n",
            "225/225 [==============================] - 0s 99us/sample - loss: 0.1207 - accuracy: 0.9822 - val_loss: 0.1361 - val_accuracy: 0.9733\n",
            "Epoch 500/500\n",
            "225/225 [==============================] - 0s 103us/sample - loss: 0.1204 - accuracy: 0.9867 - val_loss: 0.1349 - val_accuracy: 0.9867\n"
          ],
          "name": "stdout"
        }
      ]
    },
    {
      "cell_type": "markdown",
      "metadata": {
        "id": "vGW4wYFfhzO9",
        "colab_type": "text"
      },
      "source": [
        "###Analyze Results"
      ]
    },
    {
      "cell_type": "markdown",
      "metadata": {
        "id": "At899uxLh8Pi",
        "colab_type": "text"
      },
      "source": [
        "Let's see where our model puts the decision boundaries for the classification:"
      ]
    },
    {
      "cell_type": "code",
      "metadata": {
        "id": "Wn3xN3EFwRCi",
        "colab_type": "code",
        "outputId": "6aaf2ff0-1f37-48a8-ea00-aab1b83f458f",
        "colab": {
          "base_uri": "https://localhost:8080/",
          "height": 303
        }
      },
      "source": [
        "utils.plot_decision_boundary(points, labels, model)"
      ],
      "execution_count": 101,
      "outputs": [
        {
          "output_type": "execute_result",
          "data": {
            "text/plain": [
              "(<Figure size 432x288 with 1 Axes>,\n",
              " <matplotlib.axes._subplots.AxesSubplot at 0x7f3c64390ef0>)"
            ]
          },
          "metadata": {
            "tags": []
          },
          "execution_count": 101
        },
        {
          "output_type": "display_data",
          "data": {
            "image/png": "[encoded data removed]",
            "text/plain": [
              "<Figure size 432x288 with 1 Axes>"
            ]
          },
          "metadata": {
            "tags": []
          }
        }
      ]
    },
    {
      "cell_type": "markdown",
      "metadata": {
        "id": "TciDuO3piciF",
        "colab_type": "text"
      },
      "source": [
        "Let's run our model on the data, to get predictions:"
      ]
    },
    {
      "cell_type": "code",
      "metadata": {
        "id": "S7DFWJbCx2Nn",
        "colab_type": "code",
        "outputId": "6c07389b-e454-4ae0-d980-89b62430d61c",
        "colab": {
          "base_uri": "https://localhost:8080/",
          "height": 331
        }
      },
      "source": [
        "predicted = np.argmax(network.predict(points), axis=1)\n",
        "utils.plot_confusion_matrix(predicted, labels)"
      ],
      "execution_count": 119,
      "outputs": [
        {
          "output_type": "stream",
          "text": [
            "Confusion matrix\n"
          ],
          "name": "stdout"
        },
        {
          "output_type": "execute_result",
          "data": {
            "text/plain": [
              "<matplotlib.axes._subplots.AxesSubplot at 0x7f3c63e75fd0>"
            ]
          },
          "metadata": {
            "tags": []
          },
          "execution_count": 119
        },
        {
          "output_type": "display_data",
          "data": {
            "image/png": "[encoded data removed]",
            "text/plain": [
              "<Figure size 432x288 with 2 Axes>"
            ]
          },
          "metadata": {
            "tags": []
          }
        }
      ]
    },
    {
      "cell_type": "code",
      "metadata": {
        "id": "5nACcL2i1qZv",
        "colab_type": "code",
        "outputId": "3d009121-cac0-44df-bad3-c247a5eb497d",
        "colab": {
          "base_uri": "https://localhost:8080/",
          "height": 573
        }
      },
      "source": [
        "# Plot training & validation accuracy through training\n",
        "utils.plot_accuracy_and_loss(history)"
      ],
      "execution_count": 108,
      "outputs": [
        {
          "output_type": "display_data",
          "data": {
            "image/png": "[encoded data removed]",
            "text/plain": [
              "<Figure size 432x288 with 1 Axes>"
            ]
          },
          "metadata": {
            "tags": []
          }
        },
        {
          "output_type": "display_data",
          "data": {
            "image/png": "[encoded data removed]",
            "text/plain": [
              "<Figure size 432x288 with 1 Axes>"
            ]
          },
          "metadata": {
            "tags": []
          }
        }
      ]
    }
  ]
}