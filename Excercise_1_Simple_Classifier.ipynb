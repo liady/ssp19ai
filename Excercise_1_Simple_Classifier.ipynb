{
  "nbformat": 4,
  "nbformat_minor": 0,
  "metadata": {
    "colab": {
      "name": "Excercise 1 - Simple Classifier",
      "version": "0.3.2",
      "provenance": [],
      "collapsed_sections": [],
      "toc_visible": true,
      "include_colab_link": true
    },
    "kernelspec": {
      "name": "python3",
      "display_name": "Python 3"
    }
  },
  "cells": [
    {
      "cell_type": "markdown",
      "metadata": {
        "id": "view-in-github",
        "colab_type": "text"
      },
      "source": [
        "<a href=\"https://colab.research.google.com/github/liady/ssp19ai/blob/master/Excercise_1_Simple_Classifier.ipynb\" target=\"_parent\"><img src=\"https://colab.research.google.com/assets/colab-badge.svg\" alt=\"Open In Colab\"/></a>"
      ]
    },
    {
      "cell_type": "markdown",
      "metadata": {
        "id": "s2ArjSbvNIlA",
        "colab_type": "text"
      },
      "source": [
        "# SSP19 - Machine Learning"
      ]
    },
    {
      "cell_type": "markdown",
      "metadata": {
        "id": "9e048l5KPRvC",
        "colab_type": "text"
      },
      "source": [
        "<img src=\"https://i.ibb.co/KV784Nc/SSP19.png\"/>"
      ]
    },
    {
      "cell_type": "markdown",
      "metadata": {
        "id": "2m3JvqB5NVH4",
        "colab_type": "text"
      },
      "source": [
        "## A Simple Neural Network Classifier"
      ]
    },
    {
      "cell_type": "markdown",
      "metadata": {
        "id": "GQPLk6LrPaAU",
        "colab_type": "text"
      },
      "source": [
        "In this excercise, we will get familiar with some of the basic concepts of neural networks.\n",
        "\n",
        "In order to understand the meaning of a **classifier** - we will build a simple neural network that will receive points on a graph as an input - and will have to classify them to the appropriate class."
      ]
    },
    {
      "cell_type": "markdown",
      "metadata": {
        "id": "SR8Oun93RbLF",
        "colab_type": "text"
      },
      "source": [
        "###\"Hello World\" with Google Colab"
      ]
    },
    {
      "cell_type": "markdown",
      "metadata": {
        "id": "xQQ7MVHLP3GQ",
        "colab_type": "text"
      },
      "source": [
        "*(Note - In order to run a cell - select it and press Ctrl + Enter)*"
      ]
    },
    {
      "cell_type": "code",
      "metadata": {
        "id": "EgW4LAHURg-2",
        "colab_type": "code",
        "colab": {}
      },
      "source": [
        "print(\"Hello World\")"
      ],
      "execution_count": 0,
      "outputs": []
    },
    {
      "cell_type": "markdown",
      "metadata": {
        "id": "uAJuYw3BQG8f",
        "colab_type": "text"
      },
      "source": [
        "###Requirements"
      ]
    },
    {
      "cell_type": "markdown",
      "metadata": {
        "id": "9gK_BOWyQK2r",
        "colab_type": "text"
      },
      "source": [
        "Let's make sure we have the latest version of [TensorFlow](https://www.tensorflow.org/tutorials) Installed:"
      ]
    },
    {
      "cell_type": "code",
      "metadata": {
        "id": "Wo0msBDdpxQZ",
        "colab_type": "code",
        "colab": {}
      },
      "source": [
        "!pip install tensorflow==2.0.0-beta1"
      ],
      "execution_count": 0,
      "outputs": []
    },
    {
      "cell_type": "markdown",
      "metadata": {
        "id": "-k_B-B7eQa0L",
        "colab_type": "text"
      },
      "source": [
        "Let's also make sure to import all the libraries that we need in order to run the excercise:"
      ]
    },
    {
      "cell_type": "code",
      "metadata": {
        "id": "p8vETwvPakr8",
        "colab_type": "code",
        "colab": {}
      },
      "source": [
        "!git clone https://github.com/liady/ssp19ai_utils.git\n",
        "!git -C ssp19ai_utils pull\n",
        "import ssp19ai_utils.utils as utils\n",
        "import importlib\n",
        "importlib.reload(utils)"
      ],
      "execution_count": 0,
      "outputs": []
    },
    {
      "cell_type": "code",
      "metadata": {
        "id": "cCN9gxfpQYzL",
        "colab_type": "code",
        "colab": {}
      },
      "source": [
        "from __future__ import absolute_import, division, print_function, unicode_literals\n",
        "\n",
        "# TensorFlow and tf.keras\n",
        "import tensorflow as tf # The framework to run our models\n",
        "from tensorflow import keras # High order layers, models, etc\n",
        "from keras.utils import to_categorical # Utilities\n",
        "from sklearn.utils import shuffle\n",
        "from sklearn.model_selection import train_test_split\n",
        "\n",
        "# Helper libraries\n",
        "import numpy as np\n",
        "import matplotlib.pyplot as plt\n",
        "\n",
        "print(\"TensorFlow version is \" + tf.__version__)"
      ],
      "execution_count": 0,
      "outputs": []
    },
    {
      "cell_type": "markdown",
      "metadata": {
        "id": "_EnofqRpRxA3",
        "colab_type": "text"
      },
      "source": [
        "###Generate Data"
      ]
    },
    {
      "cell_type": "markdown",
      "metadata": {
        "id": "PluLh9IiRyua",
        "colab_type": "text"
      },
      "source": [
        "Let's generate our initial data. Note that the parameters are adjustable:"
      ]
    },
    {
      "cell_type": "code",
      "metadata": {
        "id": "LFjGeYYLoqyl",
        "colab_type": "code",
        "cellView": "both",
        "colab": {}
      },
      "source": [
        "POINTS_PER_CLASS = 100 # number of points per class\n",
        "NUMBER_OF_CLASSES = 3 # number of classes\n",
        "\n",
        "# Randomly generates data points and their labels\n",
        "points, labels = utils.generateDataPoints(NUMBER_OF_CLASSES, POINTS_PER_CLASS)"
      ],
      "execution_count": 0,
      "outputs": []
    },
    {
      "cell_type": "markdown",
      "metadata": {
        "id": "GXB23aUob9O4",
        "colab_type": "text"
      },
      "source": [
        "Take a look on our data shape:"
      ]
    },
    {
      "cell_type": "code",
      "metadata": {
        "id": "2Kh8jQT2cAPq",
        "colab_type": "code",
        "colab": {}
      },
      "source": [
        "points.shape"
      ],
      "execution_count": 0,
      "outputs": []
    },
    {
      "cell_type": "markdown",
      "metadata": {
        "id": "c-TC-fB4cgK9",
        "colab_type": "text"
      },
      "source": [
        "Print some labels:"
      ]
    },
    {
      "cell_type": "code",
      "metadata": {
        "id": "ycpQVfb8ciHu",
        "colab_type": "code",
        "colab": {}
      },
      "source": [
        "print(labels[10], labels[110], labels[120], labels[250])"
      ],
      "execution_count": 0,
      "outputs": []
    },
    {
      "cell_type": "markdown",
      "metadata": {
        "id": "XJgDvK6acqGk",
        "colab_type": "text"
      },
      "source": [
        "Let's visualize the data on a graph:"
      ]
    },
    {
      "cell_type": "code",
      "metadata": {
        "id": "MdiTDSw5crsf",
        "colab_type": "code",
        "colab": {}
      },
      "source": [
        "# visualize the data:\n",
        "utils.visualize_points(points, labels)"
      ],
      "execution_count": 0,
      "outputs": []
    },
    {
      "cell_type": "markdown",
      "metadata": {
        "id": "HsfzyHBmev_1",
        "colab_type": "text"
      },
      "source": [
        "### Build The Model"
      ]
    },
    {
      "cell_type": "code",
      "metadata": {
        "id": "aPX2svNto927",
        "colab_type": "code",
        "colab": {}
      },
      "source": [
        "# Define the architecture\n",
        "model = keras.Sequential([\n",
        "    keras.layers.Dense(100, input_dim=2, activation=\"relu\"),\n",
        "    keras.layers.Dense(3, activation=\"softmax\")\n",
        "])\n",
        "\n",
        "# Define the functionality\n",
        "model.compile(optimizer=\"adam\", loss=\"categorical_crossentropy\", metrics=[\"accuracy\"])"
      ],
      "execution_count": 0,
      "outputs": []
    },
    {
      "cell_type": "markdown",
      "metadata": {
        "id": "BQsgKmBvfx7Z",
        "colab_type": "text"
      },
      "source": [
        "###Prepare the data"
      ]
    },
    {
      "cell_type": "markdown",
      "metadata": {
        "id": "AyNBCWV3eYcK",
        "colab_type": "text"
      },
      "source": [
        "**Important!** Make sure to shuffle the data (why?):"
      ]
    },
    {
      "cell_type": "code",
      "metadata": {
        "id": "H1dMuw2RebsP",
        "colab_type": "code",
        "colab": {}
      },
      "source": [
        "points, labels = shuffle(points, labels)"
      ],
      "execution_count": 0,
      "outputs": []
    },
    {
      "cell_type": "markdown",
      "metadata": {
        "id": "5i6nOCx-f7Wp",
        "colab_type": "text"
      },
      "source": [
        "Change our labels to be *categorical* instead of *numerical*:"
      ]
    },
    {
      "cell_type": "code",
      "metadata": {
        "id": "fu63sBN4gAjl",
        "colab_type": "code",
        "colab": {}
      },
      "source": [
        "labels_categorical = to_categorical(labels)"
      ],
      "execution_count": 0,
      "outputs": []
    },
    {
      "cell_type": "markdown",
      "metadata": {
        "id": "jfa_-n8ajdED",
        "colab_type": "text"
      },
      "source": [
        "### Train the model!"
      ]
    },
    {
      "cell_type": "code",
      "metadata": {
        "id": "y3V2MK1OfZfX",
        "colab_type": "code",
        "colab": {}
      },
      "source": [
        "history = model.fit(points, labels_categorical, validation_split=0.25, epochs=500)"
      ],
      "execution_count": 0,
      "outputs": []
    },
    {
      "cell_type": "markdown",
      "metadata": {
        "id": "vGW4wYFfhzO9",
        "colab_type": "text"
      },
      "source": [
        "###Analyze Results"
      ]
    },
    {
      "cell_type": "markdown",
      "metadata": {
        "id": "At899uxLh8Pi",
        "colab_type": "text"
      },
      "source": [
        "Let's see where our model puts the decision boundaries for the classification:"
      ]
    },
    {
      "cell_type": "code",
      "metadata": {
        "id": "Wn3xN3EFwRCi",
        "colab_type": "code",
        "colab": {}
      },
      "source": [
        "utils.plot_decision_boundary(points, labels, model)"
      ],
      "execution_count": 0,
      "outputs": []
    },
    {
      "cell_type": "markdown",
      "metadata": {
        "id": "TciDuO3piciF",
        "colab_type": "text"
      },
      "source": [
        "Let's run our model on the data, to get predictions:"
      ]
    },
    {
      "cell_type": "code",
      "metadata": {
        "id": "S7DFWJbCx2Nn",
        "colab_type": "code",
        "colab": {}
      },
      "source": [
        "predicted = np.argmax(network.predict(points), axis=1)\n",
        "utils.plot_confusion_matrix(predicted, labels)"
      ],
      "execution_count": 0,
      "outputs": []
    },
    {
      "cell_type": "code",
      "metadata": {
        "id": "5nACcL2i1qZv",
        "colab_type": "code",
        "colab": {}
      },
      "source": [
        "# Plot training & validation accuracy through training\n",
        "utils.plot_accuracy_and_loss(history)"
      ],
      "execution_count": 0,
      "outputs": []
    }
  ]
}