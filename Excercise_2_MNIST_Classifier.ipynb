{
  "nbformat": 4,
  "nbformat_minor": 0,
  "metadata": {
    "colab": {
      "name": "Excercise 2 - MNIST Classifier.ipynb",
      "provenance": [],
      "include_colab_link": true
    },
    "kernelspec": {
      "name": "python3",
      "display_name": "Python 3"
    }
  },
  "cells": [
    {
      "cell_type": "markdown",
      "metadata": {
        "id": "view-in-github",
        "colab_type": "text"
      },
      "source": [
        "<a href=\"https://colab.research.google.com/github/liady/ssp19ai/blob/master/Excercise_2_MNIST_Classifier.ipynb\" target=\"_parent\"><img src=\"https://colab.research.google.com/assets/colab-badge.svg\" alt=\"Open In Colab\"/></a>"
      ]
    },
    {
      "cell_type": "markdown",
      "metadata": {
        "id": "s2ArjSbvNIlA"
      },
      "source": [
        "# ISU - Machine Learning"
      ]
    },
    {
      "cell_type": "markdown",
      "metadata": {
        "id": "9e048l5KPRvC"
      },
      "source": [
        "<img src=\"https://i.ibb.co/KV784Nc/SSP19.png\"/>"
      ]
    },
    {
      "cell_type": "markdown",
      "metadata": {
        "id": "2m3JvqB5NVH4"
      },
      "source": [
        "# Neural Network Classifier - MNIST\n",
        "<img src=\"https://miro.medium.com/max/700/1*XdCMCaHPt-pqtEibUfAnNw.png\" width=\"450px\"/>"
      ]
    },
    {
      "cell_type": "markdown",
      "metadata": {
        "id": "uAJuYw3BQG8f"
      },
      "source": [
        "###Requirements"
      ]
    },
    {
      "cell_type": "markdown",
      "metadata": {
        "id": "9gK_BOWyQK2r"
      },
      "source": [
        "Let's make sure we have the latest version of [TensorFlow](https://www.tensorflow.org/tutorials) Installed:"
      ]
    },
    {
      "cell_type": "code",
      "metadata": {
        "id": "Wo0msBDdpxQZ"
      },
      "source": [
        "!pip install tensorflow==2.0.0-beta1"
      ],
      "execution_count": null,
      "outputs": []
    },
    {
      "cell_type": "markdown",
      "metadata": {
        "id": "-k_B-B7eQa0L"
      },
      "source": [
        "Let's also make sure to import all the libraries that we need in order to run the excercise:"
      ]
    },
    {
      "cell_type": "code",
      "metadata": {
        "id": "p8vETwvPakr8"
      },
      "source": [
        "# install helper utilities\n",
        "!git clone https://github.com/liady/ssp19ai_utils.git\n",
        "!git -C ssp19ai_utils pull\n",
        "import ssp19ai_utils.utils as utils\n",
        "import importlib\n",
        "importlib.reload(utils)"
      ],
      "execution_count": null,
      "outputs": []
    },
    {
      "cell_type": "code",
      "metadata": {
        "id": "cCN9gxfpQYzL"
      },
      "source": [
        "%matplotlib inline\n",
        "from __future__ import absolute_import, division, print_function, unicode_literals\n",
        "\n",
        "# TensorFlow and tf.keras\n",
        "import tensorflow as tf # The framework to run our models\n",
        "from tensorflow import keras # High order layers, models, etc\n",
        "from keras.utils import to_categorical # Utilities\n",
        "from sklearn.utils import shuffle\n",
        "from sklearn.model_selection import train_test_split\n",
        "\n",
        "# Helper libraries\n",
        "import numpy as np\n",
        "import matplotlib.pyplot as plt\n",
        "\n",
        "print(\"TensorFlow version is \" + tf.__version__)"
      ],
      "execution_count": null,
      "outputs": []
    },
    {
      "cell_type": "markdown",
      "metadata": {
        "id": "PirsM-HtkQoe"
      },
      "source": [
        "Load the data from the mnist database:"
      ]
    },
    {
      "cell_type": "code",
      "metadata": {
        "id": "mju6Ob7Jjvl_"
      },
      "source": [
        "mnist = keras.datasets.mnist\n",
        "(x_train, y_train),(x_test, y_test) = mnist.load_data()"
      ],
      "execution_count": null,
      "outputs": []
    },
    {
      "cell_type": "markdown",
      "metadata": {
        "id": "O6NfHhTVlZtM"
      },
      "source": [
        "Explore the data:"
      ]
    },
    {
      "cell_type": "code",
      "metadata": {
        "id": "0SLNgJPJlcVu"
      },
      "source": [
        "print(\"Shape of training images: \", x_train.shape)\n",
        "print(\"Shape of training labels: \", y_train.shape)"
      ],
      "execution_count": null,
      "outputs": []
    },
    {
      "cell_type": "markdown",
      "metadata": {
        "id": "6f62e6NXkVCy"
      },
      "source": [
        "Let's visualize some of the data:"
      ]
    },
    {
      "cell_type": "code",
      "metadata": {
        "id": "SHZSM4DJkX5f"
      },
      "source": [
        "image_index = 123 # You may select anything up to 60,000\n",
        "utils.plot_image(x_train, y_train, index=image_index)"
      ],
      "execution_count": null,
      "outputs": []
    },
    {
      "cell_type": "code",
      "metadata": {
        "id": "zDp6Dimyn0WD"
      },
      "source": [
        "utils.plot_multi_images(x_train, y_train)"
      ],
      "execution_count": null,
      "outputs": []
    },
    {
      "cell_type": "markdown",
      "metadata": {
        "id": "-PTxzoEQoiD-"
      },
      "source": [
        "Let's define our model:"
      ]
    },
    {
      "cell_type": "code",
      "metadata": {
        "id": "A2sbXHe2lQso"
      },
      "source": [
        "# Define the architecture\n",
        "model = keras.models.Sequential([\n",
        "  keras.layers.Flatten(input_shape=(28, 28)), # why flatten?\n",
        "  keras.layers.Dense(5, activation=\"relu\"),\n",
        "  keras.layers.Dense(10, activation=\"softmax\") # why 10 classes?\n",
        "])\n",
        "\n",
        "# Define the functionality\n",
        "model.compile(optimizer='adam',\n",
        "              loss='categorical_crossentropy',\n",
        "              metrics=['accuracy'])"
      ],
      "execution_count": null,
      "outputs": []
    },
    {
      "cell_type": "markdown",
      "metadata": {
        "id": "XqFv8GNjYS9y"
      },
      "source": [
        "###View the model"
      ]
    },
    {
      "cell_type": "markdown",
      "metadata": {
        "id": "KwXnpoLZuBpF"
      },
      "source": [
        "Check summary table:"
      ]
    },
    {
      "cell_type": "code",
      "metadata": {
        "id": "fEkt2oaUt892"
      },
      "source": [
        "model.summary()"
      ],
      "execution_count": null,
      "outputs": []
    },
    {
      "cell_type": "markdown",
      "metadata": {
        "id": "FnXXjMSzuFSg"
      },
      "source": [
        "Draw the model:"
      ]
    },
    {
      "cell_type": "code",
      "metadata": {
        "id": "MC_v2ceCYWd8"
      },
      "source": [
        "utils.draw_model(model)"
      ],
      "execution_count": null,
      "outputs": []
    },
    {
      "cell_type": "markdown",
      "metadata": {
        "id": "cl_kl_jCuOwe"
      },
      "source": [
        "###Prepare the data:"
      ]
    },
    {
      "cell_type": "markdown",
      "metadata": {
        "id": "_apYGvqvoSUw"
      },
      "source": [
        "**Important** - We need to *normalize* the images:"
      ]
    },
    {
      "cell_type": "code",
      "metadata": {
        "id": "0I-GUwgkojT6"
      },
      "source": [
        "x_train_normalized = x_train / 255.0\n",
        "x_test_normalized = x_test / 255.0"
      ],
      "execution_count": null,
      "outputs": []
    },
    {
      "cell_type": "code",
      "metadata": {
        "id": "hC57CUITpXgq"
      },
      "source": [
        "# As before - turn the labels to categorical\n",
        "# for example instead of 7 it will be [0, 0, 0, 0, 0, 0, 0, 1, 0, 0]\n",
        "y_train_cat = to_categorical(y_train)\n",
        "\n",
        "# Train the model\n",
        "history = model.fit(x_train_normalized, y_train_cat, validation_split=0.25, epochs=3)"
      ],
      "execution_count": null,
      "outputs": []
    },
    {
      "cell_type": "markdown",
      "metadata": {
        "id": "NqunxXd0aKlW"
      },
      "source": [
        "Let's visualize the training process of the model:"
      ]
    },
    {
      "cell_type": "code",
      "metadata": {
        "id": "5nACcL2i1qZv"
      },
      "source": [
        "# Plot training & validation accuracy through training\n",
        "utils.plot_accuracy_and_loss(history)"
      ],
      "execution_count": null,
      "outputs": []
    },
    {
      "cell_type": "code",
      "metadata": {
        "id": "wehNtJ2exA7i"
      },
      "source": [
        "predictions = model.predict(x_test_normalized)"
      ],
      "execution_count": null,
      "outputs": []
    },
    {
      "cell_type": "code",
      "metadata": {
        "id": "0qVnNWB9sfp3"
      },
      "source": [
        "utils.plot_image_and_prob(predictions, y_test, x_test, i=1337)"
      ],
      "execution_count": null,
      "outputs": []
    },
    {
      "cell_type": "code",
      "metadata": {
        "id": "QDnwxMSEsKUn"
      },
      "source": [
        "utils.plot_multi_images_prob(predictions, y_test, x_test)"
      ],
      "execution_count": null,
      "outputs": []
    },
    {
      "cell_type": "code",
      "metadata": {
        "id": "onykkdhOsMyX"
      },
      "source": [
        "predicted_labels = utils.label_with_highest_prob(predictions)\n",
        "\n",
        "utils.plot_confusion_matrix(y_true=y_test, y_pred=predicted_labels)"
      ],
      "execution_count": null,
      "outputs": []
    }
  ]
}