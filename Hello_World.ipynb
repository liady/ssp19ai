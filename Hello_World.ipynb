{
  "nbformat": 4,
  "nbformat_minor": 0,
  "metadata": {
    "colab": {
      "name": "Hello World.ipynb",
      "version": "0.3.2",
      "provenance": [],
      "include_colab_link": true
    },
    "kernelspec": {
      "name": "python3",
      "display_name": "Python 3"
    }
  },
  "cells": [
    {
      "cell_type": "markdown",
      "metadata": {
        "id": "view-in-github",
        "colab_type": "text"
      },
      "source": [
        "<a href=\"https://colab.research.google.com/github/liady/ssp19ai/blob/master/Hello_World.ipynb\" target=\"_parent\"><img src=\"https://colab.research.google.com/assets/colab-badge.svg\" alt=\"Open In Colab\"/></a>"
      ]
    },
    {
      "cell_type": "markdown",
      "metadata": {
        "id": "s2ArjSbvNIlA",
        "colab_type": "text"
      },
      "source": [
        "# SSP19 - Machine Learning"
      ]
    },
    {
      "cell_type": "markdown",
      "metadata": {
        "id": "9e048l5KPRvC",
        "colab_type": "text"
      },
      "source": [
        "<img src=\"https://i.ibb.co/KV784Nc/SSP19.png\"/>"
      ]
    },
    {
      "cell_type": "markdown",
      "metadata": {
        "id": "x1IyssHlaA6R",
        "colab_type": "text"
      },
      "source": [
        "#Hello World SSP19"
      ]
    },
    {
      "cell_type": "markdown",
      "metadata": {
        "id": "AEKmh6R8fwdT",
        "colab_type": "text"
      },
      "source": [
        "Edit the code block below (double-click it),\n",
        "remove the \"#\" sign and then run it:"
      ]
    },
    {
      "cell_type": "code",
      "metadata": {
        "id": "C6kWNo4Cfqd-",
        "colab_type": "code",
        "colab": {}
      },
      "source": [
        "# print(\"Hello World\")"
      ],
      "execution_count": 0,
      "outputs": []
    },
    {
      "cell_type": "markdown",
      "metadata": {
        "id": "VzB3Jp9Yf4DD",
        "colab_type": "text"
      },
      "source": [
        "##Write your own code"
      ]
    },
    {
      "cell_type": "markdown",
      "metadata": {
        "id": "2P52L1fvfYXi",
        "colab_type": "text"
      },
      "source": [
        "Please add a code below that prints \"Hello World\". The Python code is :\n",
        "```\n",
        "print(\"Hello SSP19\")\n",
        "```\n",
        "Then run the code block."
      ]
    },
    {
      "cell_type": "code",
      "metadata": {
        "id": "xleGDHDfgMsX",
        "colab_type": "code",
        "colab": {}
      },
      "source": [
        ""
      ],
      "execution_count": 0,
      "outputs": []
    }
  ]
}