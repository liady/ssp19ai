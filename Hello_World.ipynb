{
  "nbformat": 4,
  "nbformat_minor": 0,
  "metadata": {
    "colab": {
      "name": "Hello World.ipynb",
      "provenance": [],
      "include_colab_link": true
    },
    "kernelspec": {
      "name": "python3",
      "display_name": "Python 3"
    }
  },
  "cells": [
    {
      "cell_type": "markdown",
      "metadata": {
        "id": "view-in-github",
        "colab_type": "text"
      },
      "source": [
        "<a href=\"https://colab.research.google.com/github/liady/ssp19ai/blob/master/Hello_World.ipynb\" target=\"_parent\"><img src=\"https://colab.research.google.com/assets/colab-badge.svg\" alt=\"Open In Colab\"/></a>"
      ]
    },
    {
      "cell_type": "markdown",
      "metadata": {
        "id": "s2ArjSbvNIlA"
      },
      "source": [
        "# SSP19 - Machine Learning"
      ]
    },
    {
      "cell_type": "markdown",
      "metadata": {
        "id": "9e048l5KPRvC"
      },
      "source": [
        "<img src=\"https://i.ibb.co/KV784Nc/SSP19.png\"/>"
      ]
    },
    {
      "cell_type": "markdown",
      "metadata": {
        "id": "x1IyssHlaA6R"
      },
      "source": [
        "#Hello World SHSSP21"
      ]
    },
    {
      "cell_type": "markdown",
      "metadata": {
        "id": "AEKmh6R8fwdT"
      },
      "source": [
        "Edit the code block below (double-click it),\n",
        "remove the \"#\" sign and then run it:"
      ]
    },
    {
      "cell_type": "code",
      "metadata": {
        "id": "C6kWNo4Cfqd-"
      },
      "source": [
        "# print(\"Hello World\")"
      ],
      "execution_count": null,
      "outputs": []
    },
    {
      "cell_type": "markdown",
      "metadata": {
        "id": "VzB3Jp9Yf4DD"
      },
      "source": [
        "##Write your own code"
      ]
    },
    {
      "cell_type": "markdown",
      "metadata": {
        "id": "2P52L1fvfYXi"
      },
      "source": [
        "Please add a code below that prints \"Hello World\". The Python code is :\n",
        "```\n",
        "print(\"Hello SHSSP21\")\n",
        "```\n",
        "Then run the code block."
      ]
    },
    {
      "cell_type": "code",
      "metadata": {
        "id": "xleGDHDfgMsX"
      },
      "source": [
        ""
      ],
      "execution_count": null,
      "outputs": []
    }
  ]
}